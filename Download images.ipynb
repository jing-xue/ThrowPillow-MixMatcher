{
 "cells": [
  {
   "cell_type": "code",
   "execution_count": 16,
   "metadata": {},
   "outputs": [],
   "source": [
    "# download all pictures based off of the url scraped from Overstock\n",
    "# csv file in working directory. File was named image_url_061119update6th.csv\n",
    "import os\n",
    "import time\n",
    "import pandas as pd\n",
    "import csv\n",
    "import requests\n",
    "\n",
    "# store working directory\n",
    "dir = os.getcwd()"
   ]
  },
  {
   "cell_type": "code",
   "execution_count": 12,
   "metadata": {},
   "outputs": [
    {
     "name": "stdout",
     "output_type": "stream",
     "text": [
      "          Unnamed: 0                                                url\n",
      "index                                                                  \n",
      "Page_1_1           0  https://ak1.ostkcdn.com/images/products/941290...\n",
      "Page_1_2           1  https://ak1.ostkcdn.com/images/products/132185...\n",
      "Page_1_3           2  https://ak1.ostkcdn.com/images/products/881687...\n",
      "Page_1_4           3  https://ak1.ostkcdn.com/images/products/662457...\n",
      "Page_1_5           4  https://ak1.ostkcdn.com/images/products/881715...\n",
      "(1879, 2)\n"
     ]
    }
   ],
   "source": [
    "img_url = pd.read_csv(\"./image_url_061119update6th.csv\",index_col = 2)\n",
    "print(img_url.head())\n",
    "print(img_url.shape)"
   ]
  },
  {
   "cell_type": "code",
   "execution_count": 13,
   "metadata": {},
   "outputs": [
    {
     "name": "stdout",
     "output_type": "stream",
     "text": [
      "                                                        url\n",
      "index                                                      \n",
      "Page_1_1  https://ak1.ostkcdn.com/images/products/941290...\n",
      "Page_1_2  https://ak1.ostkcdn.com/images/products/132185...\n",
      "Page_1_3  https://ak1.ostkcdn.com/images/products/881687...\n",
      "Page_1_4  https://ak1.ostkcdn.com/images/products/662457...\n",
      "Page_1_5  https://ak1.ostkcdn.com/images/products/881715...\n"
     ]
    }
   ],
   "source": [
    "# remove the first column from the dataframe\n",
    "img_url.drop(columns=\"Unnamed: 0\", inplace = True)\n",
    "print(img_url.head())"
   ]
  },
  {
   "cell_type": "code",
   "execution_count": 17,
   "metadata": {},
   "outputs": [
    {
     "name": "stdout",
     "output_type": "stream",
     "text": [
      "https://ak1.ostkcdn.com/images/products/9412909/L16600539.jpg?imwidth=480&impolicy=medium\n",
      "<class 'str'>\n",
      "Page_1_1\n"
     ]
    }
   ],
   "source": [
    "test = img_url.iloc[0,0]\n",
    "print(test)\n",
    "print(type(test))\n",
    "print(img_url.index.values[0])"
   ]
  },
  {
   "cell_type": "code",
   "execution_count": 22,
   "metadata": {},
   "outputs": [
    {
     "name": "stdout",
     "output_type": "stream",
     "text": [
      "['https://ak1.ostkcdn.com/images/products/9412909/L16600539.jpg?imwidth=480&impolicy=medium', 'Page_1_1']\n",
      "['https://ak1.ostkcdn.com/images/products/13218518/L19936654.jpg?imwidth=480&impolicy=medium', 'Page_1_2']\n",
      "['https://ak1.ostkcdn.com/images/products/8816874/L16050950.jpg?imwidth=480&impolicy=medium', 'Page_1_3']\n",
      "['https://ak1.ostkcdn.com/images/products/6624571/L14191181.jpg?imwidth=480&impolicy=medium', 'Page_1_4']\n",
      "['https://ak1.ostkcdn.com/images/products/8817153/L16051170.jpg?imwidth=480&impolicy=medium', 'Page_1_5']\n"
     ]
    }
   ],
   "source": [
    "for i in range(5):\n",
    "    current_url = img_url.iloc[i,0]\n",
    "    img_name = img_url.index.values[i]\n",
    "    print([current_url , img_name])"
   ]
  },
  {
   "cell_type": "code",
   "execution_count": 31,
   "metadata": {},
   "outputs": [],
   "source": [
    "# credit to: https://www.quora.com/How-do-I-write-a-Python-code-to-download-images-from-100-URLs-stored-in-a-CSV-file\n",
    "for i in range(img_url.shape[0]):\n",
    "    current_url = img_url.iloc[i,0]\n",
    "    img_name = img_url.index.values[i] + '.jpg'\n",
    "    result = requests.get (current_url, stream = True)\n",
    "    if result.status_code == 200:\n",
    "        image = result.raw.read()\n",
    "        open(os.path.join(dir,r'Pillow_img',img_name),'wb').write(image)\n",
    "        \n"
   ]
  },
  {
   "cell_type": "code",
   "execution_count": 24,
   "metadata": {},
   "outputs": [
    {
     "name": "stdout",
     "output_type": "stream",
     "text": [
      "1879\n"
     ]
    }
   ],
   "source": [
    "print(img_url.shape[0])"
   ]
  },
  {
   "cell_type": "markdown",
   "metadata": {},
   "source": [
    "Downloaded 1879 pillow images in 480x480 size to folder \"Pillow_img\""
   ]
  }
 ],
 "metadata": {
  "kernelspec": {
   "display_name": "Python 3",
   "language": "python",
   "name": "python3"
  },
  "language_info": {
   "codemirror_mode": {
    "name": "ipython",
    "version": 3
   },
   "file_extension": ".py",
   "mimetype": "text/x-python",
   "name": "python",
   "nbconvert_exporter": "python",
   "pygments_lexer": "ipython3",
   "version": "3.7.3"
  }
 },
 "nbformat": 4,
 "nbformat_minor": 2
}
