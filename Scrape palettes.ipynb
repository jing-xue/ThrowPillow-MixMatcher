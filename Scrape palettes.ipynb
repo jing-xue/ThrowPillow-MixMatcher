{
 "cells": [
  {
   "cell_type": "code",
   "execution_count": 3,
   "metadata": {},
   "outputs": [],
   "source": [
    "#I aim to scrape designer color palellets (color RGB/Hex and palette name)\n",
    "#url is \"https://www.canva.com/colors/color-palettes/page/2/\"  where page ranges between 1 to 99\n",
    "#credit to \"https://medium.com/the-andela-way/introduction-to-web-scraping-using-selenium-7ec377a8cf72\"\n",
    "#credit to \"https://intoli.com/blog/running-selenium-with-headless-chrome/\"\n",
    "from selenium import webdriver\n",
    "from selenium.webdriver.common.by import By\n",
    "from selenium.webdriver.support.ui import WebDriverWait\n",
    "from selenium.webdriver.support import expected_conditions as EC\n",
    "from selenium.common.exceptions import TimeoutException"
   ]
  },
  {
   "cell_type": "code",
   "execution_count": 40,
   "metadata": {},
   "outputs": [],
   "source": [
    "# Launch your browser\n",
    "options = webdriver.ChromeOptions()\n",
    "#options.add_argument(\"--incognito\")"
   ]
  },
  {
   "cell_type": "code",
   "execution_count": 41,
   "metadata": {
    "scrolled": true
   },
   "outputs": [],
   "source": [
    "# Initialize the driver\n",
    "driver = webdriver.Chrome(options = options)"
   ]
  },
  {
   "cell_type": "code",
   "execution_count": 42,
   "metadata": {},
   "outputs": [],
   "source": [
    "driver.get('https://www.canva.com/colors/color-palettes/')\n",
    "\n",
    "#wait up to 10 sec for the elements to become available\n",
    "driver.implicitly_wait(10)"
   ]
  },
  {
   "cell_type": "code",
   "execution_count": 44,
   "metadata": {},
   "outputs": [
    {
     "name": "stdout",
     "output_type": "stream",
     "text": [
      "titles:\n",
      "['Up Shore', 'Thwarted Summer Shower', 'Luscious Lemonade', 'Rosettes and Cream', 'Berry Blues', 'Mermaid Lagoon', 'Emerald Entrance', 'Healthy Leaves', 'Room for Comfort', 'Wild Orchid', 'Diaphanous Jellyfish', 'Window Tide', 'Berry Jar', 'Petal Party', 'Pasture of Dreams', 'Retro Punch', 'Bamboo Beach', 'In the Blue', 'Foil-covered Sneakers', 'Mellow Barnyard', 'Athleisure Style', 'Soft Focus Forest', 'Salmon Sushi', 'Icy Gradient', 'Pomegranate on Print', 'Green Tracks', 'Way up North', 'Sea of Serenity', 'Melted Ice Cream', 'Watermelon and Stripes', 'Crystal Feline', 'Northern Lights', 'Rosy Dew', 'Butterfly Kisses', 'Blushing Landscape', 'Pale Blossom', 'Strawberry Froth', 'Center of Life', 'Sweet Orchid', 'Thirst Quencher'] \n",
      "\n"
     ]
    }
   ],
   "source": [
    "# find_elements_by_xpath returns an array of selenium objects\n",
    "titles_element=driver.find_elements_by_xpath(\"//div[@class='_1XianT2_lSZt4p-pJUrEaY']\")\n",
    "\n",
    "# use list comprehension to get the actual palette titles and not the selenium objects\n",
    "titles = [x.text for x in titles_element]\n",
    "\n",
    "# print out all the titles\n",
    "print ('titles:')\n",
    "print (titles, '\\n')"
   ]
  },
  {
   "cell_type": "code",
   "execution_count": 56,
   "metadata": {
    "scrolled": true
   },
   "outputs": [
    {
     "name": "stdout",
     "output_type": "stream",
     "text": [
      "color RGB:\n",
      "['background-color: rgb(177, 225, 255);', 'background-color: rgb(2, 146, 183);', 'background-color: rgb(26, 200, 219);', 'background-color: rgb(140, 117, 106);', 'background-color: rgb(222, 226, 236);', 'background-color: rgb(76, 82, 112);', 'background-color: rgb(246, 82, 160);', 'background-color: rgb(54, 238, 224);', 'background-color: rgb(188, 236, 224);', 'background-color: rgb(225, 195, 64);', 'background-color: rgb(76, 215, 208);', 'background-color: rgb(164, 232, 224);', 'background-color: rgb(248, 234, 140);', 'background-color: rgb(216, 167, 177);', 'background-color: rgb(182, 226, 211);', 'background-color: rgb(250, 232, 224);', 'background-color: rgb(239, 124, 142);', 'background-color: rgb(78, 26, 61);', 'background-color: rgb(207, 238, 209);', 'background-color: rgb(255, 39, 104);', 'background-color: rgb(5, 224, 233);', 'background-color: rgb(177, 212, 224);', 'background-color: rgb(46, 139, 192);', 'background-color: rgb(12, 45, 72);', 'background-color: rgb(20, 93, 160);', 'background-color: rgb(182, 141, 64);', 'background-color: rgb(244, 235, 208);', 'background-color: rgb(18, 38, 32);', 'background-color: rgb(214, 173, 96);', 'background-color: rgb(89, 152, 26);', 'background-color: rgb(236, 248, 127);', 'background-color: rgb(129, 182, 34);', 'background-color: rgb(61, 85, 12);', 'background-color: rgb(238, 237, 231);', 'background-color: rgb(134, 139, 142);', 'background-color: rgb(185, 183, 189);', 'background-color: rgb(231, 210, 204);', 'background-color: rgb(116, 26, 172);', 'background-color: rgb(52, 7, 68);', 'background-color: rgb(222, 186, 214);', 'background-color: rgb(0, 84, 55);', 'background-color: rgb(4, 31, 96);', 'background-color: rgb(4, 118, 208);', 'background-color: rgb(44, 238, 240);', 'background-color: rgb(180, 245, 240);', 'background-color: rgb(195, 224, 229);', 'background-color: rgb(39, 68, 114);', 'background-color: rgb(88, 133, 175);', 'background-color: rgb(65, 114, 159);', 'background-color: rgb(248, 56, 57);', 'background-color: rgb(81, 59, 65);', 'background-color: rgb(127, 229, 240);', 'background-color: rgb(200, 244, 249);', 'background-color: rgb(135, 10, 48);', 'background-color: rgb(236, 143, 208);', 'background-color: rgb(212, 55, 144);', 'background-color: rgb(242, 197, 224);', 'background-color: rgb(97, 54, 89);', 'background-color: rgb(33, 21, 34);', 'background-color: rgb(193, 151, 210);', 'background-color: rgb(211, 177, 194);', 'background-color: rgb(245, 23, 32);', 'background-color: rgb(250, 38, 160);', 'background-color: rgb(248, 210, 16);', 'background-color: rgb(47, 243, 224);', 'background-color: rgb(93, 108, 137);', 'background-color: rgb(54, 214, 231);', 'background-color: rgb(254, 176, 106);', 'background-color: rgb(251, 246, 243);', 'background-color: rgb(12, 105, 128);', 'background-color: rgb(0, 168, 168);', 'background-color: rgb(46, 181, 224);', 'background-color: rgb(196, 219, 224);', 'background-color: rgb(51, 54, 82);', 'background-color: rgb(250, 208, 44);', 'background-color: rgb(233, 234, 236);', 'background-color: rgb(144, 173, 198);', 'background-color: rgb(40, 33, 32);', 'background-color: rgb(250, 208, 44);', 'background-color: rgb(248, 239, 228);', 'background-color: rgb(230, 194, 191);', 'background-color: rgb(206, 35, 128);', 'background-color: rgb(214, 223, 224);', 'background-color: rgb(23, 24, 16);', 'background-color: rgb(7, 218, 192);', 'background-color: rgb(12, 20, 70);', 'background-color: rgb(135, 172, 163);', 'background-color: rgb(43, 124, 133);', 'background-color: rgb(23, 88, 115);', 'background-color: rgb(231, 242, 248);', 'background-color: rgb(116, 189, 203);', 'background-color: rgb(255, 163, 132);', 'background-color: rgb(239, 231, 188);', 'background-color: rgb(238, 181, 235);', 'background-color: rgb(194, 109, 188);', 'background-color: rgb(200, 244, 249);', 'background-color: rgb(60, 172, 174);', 'background-color: rgb(239, 235, 226);', 'background-color: rgb(177, 117, 255);', 'background-color: rgb(171, 5, 82);', 'background-color: rgb(7, 4, 10);', 'background-color: rgb(67, 177, 75);', 'background-color: rgb(230, 215, 213);', 'background-color: rgb(158, 111, 109);', 'background-color: rgb(30, 49, 72);', 'background-color: rgb(30, 61, 88);', 'background-color: rgb(5, 125, 205);', 'background-color: rgb(67, 176, 241);', 'background-color: rgb(232, 238, 241);', 'background-color: rgb(5, 157, 192);', 'background-color: rgb(106, 242, 240);', 'background-color: rgb(4, 212, 240);', 'background-color: rgb(4, 236, 240);', 'background-color: rgb(246, 200, 204);', 'background-color: rgb(235, 245, 247);', 'background-color: rgb(193, 91, 120);', 'background-color: rgb(91, 176, 186);', 'background-color: rgb(29, 116, 27);', 'background-color: rgb(136, 202, 94);', 'background-color: rgb(241, 192, 185);', 'background-color: rgb(210, 251, 164);', 'background-color: rgb(82, 152, 193);', 'background-color: rgb(18, 49, 117);', 'background-color: rgb(192, 194, 201);', 'background-color: rgb(99, 116, 122);', 'background-color: rgb(234, 234, 224);', 'background-color: rgb(28, 70, 112);', 'background-color: rgb(39, 138, 176);', 'background-color: rgb(29, 198, 144);', 'background-color: rgb(249, 241, 240);', 'background-color: rgb(250, 220, 217);', 'background-color: rgb(248, 175, 166);', 'background-color: rgb(247, 148, 137);', 'background-color: rgb(160, 47, 0);', 'background-color: rgb(159, 199, 170);', 'background-color: rgb(96, 46, 158);', 'background-color: rgb(180, 100, 163);', 'background-color: rgb(255, 136, 130);', 'background-color: rgb(84, 56, 85);', 'background-color: rgb(232, 141, 114);', 'background-color: rgb(255, 163, 132);', 'background-color: rgb(225, 226, 231);', 'background-color: rgb(252, 192, 197);', 'background-color: rgb(191, 76, 65);', 'background-color: rgb(152, 4, 45);', 'background-color: rgb(228, 61, 64);', 'background-color: rgb(243, 121, 112);', 'background-color: rgb(248, 92, 112);', 'background-color: rgb(250, 190, 192);', 'background-color: rgb(228, 70, 80);', 'background-color: rgb(235, 99, 160);', 'background-color: rgb(251, 209, 96);', 'background-color: rgb(248, 168, 197);', 'background-color: rgb(110, 53, 98);', 'background-color: rgb(209, 3, 209);', 'background-color: rgb(109, 131, 67);', 'background-color: rgb(163, 193, 74);', 'background-color: rgb(254, 222, 0);', 'background-color: rgb(180, 248, 200);', 'background-color: rgb(106, 184, 238);', 'background-color: rgb(168, 217, 248);'] \n",
      "\n"
     ]
    }
   ],
   "source": [
    "# find_elements_by_xpath returns an array of selenium objects\n",
    "color_element=driver.find_elements_by_xpath(\"//span[@class='_1guPYObY8qi2kFdVMr9G5R']\")\n",
    "\n",
    "# use list comprehension to get the actual color RGB not the selenium objects\n",
    "color = [x.get_attribute('style') for x in color_element]\n",
    "\n",
    "# print out all the titles\n",
    "\n",
    "print ('color RGB:')\n",
    "print (color, '\\n')"
   ]
  },
  {
   "cell_type": "code",
   "execution_count": 64,
   "metadata": {},
   "outputs": [
    {
     "name": "stdout",
     "output_type": "stream",
     "text": [
      "Extracted 161 RGB values for 40 palettes.\n"
     ]
    }
   ],
   "source": [
    "# examine if number of color RGB match with number of palettes\n",
    "# 4 color RGB for each palette\n",
    "print('Extracted ' + str(len(color)) + ' RGB values for ' + str(len(titles)) + ' palettes.')"
   ]
  },
  {
   "cell_type": "code",
   "execution_count": 65,
   "metadata": {},
   "outputs": [
    {
     "name": "stdout",
     "output_type": "stream",
     "text": [
      "Actually, extracted 160 RGB values for 40 palettes.\n"
     ]
    }
   ],
   "source": [
    "# noticed that the first RGB belongs to a stand-alone & non-pallete-related element.\n",
    "color_RGB = color [1:len(color)]\n",
    "print('Actually, extracted ' + str(len(color_RGB)) + ' RGB values for ' + str(len(titles)) + ' palettes.')"
   ]
  },
  {
   "cell_type": "code",
   "execution_count": 119,
   "metadata": {},
   "outputs": [
    {
     "name": "stdout",
     "output_type": "stream",
     "text": [
      "                                       RGB1                RGB2  \\\n",
      "Coral Goodies              rgb(135, 72, 49)  rgb(249, 216, 118)   \n",
      "Street Frenchie             rgb(82, 76, 79)   rgb(246, 195, 36)   \n",
      "Wheeling Through Sky      rgb(236, 117, 93)  rgb(159, 169, 117)   \n",
      "Moment for Macarons      rgb(114, 123, 140)  rgb(211, 216, 192)   \n",
      "Autumn Swim                rgb(137, 97, 28)  rgb(252, 253, 254)   \n",
      "Mists of Marshes         rgb(182, 197, 154)      rgb(3, 24, 18)   \n",
      "Enchanted Emerald Woods        rgb(2, 7, 6)  rgb(244, 245, 245)   \n",
      "Sauce Platter            rgb(247, 248, 246)     rgb(71, 58, 29)   \n",
      "Skeletal Light              rgb(50, 48, 40)  rgb(182, 178, 131)   \n",
      "Edible Goodness             rgb(65, 51, 34)     rgb(57, 86, 13)   \n",
      "Careful of Cracks        rgb(204, 209, 204)  rgb(204, 219, 235)   \n",
      "Fiery Shore                 rgb(46, 45, 40)    rgb(254, 153, 0)   \n",
      "Teapot Roses             rgb(255, 255, 255)  rgb(138, 158, 160)   \n",
      "Clean Up Nice               rgb(61, 60, 65)   rgb(116, 72, 114)   \n",
      "Morning Exhale              rgb(92, 3, 140)    rgb(89, 78, 106)   \n",
      "Bubblegum Banana         rgb(250, 119, 106)  rgb(247, 201, 182)   \n",
      "Golfer's Glove              rgb(87, 52, 34)  rgb(209, 210, 211)   \n",
      "From the Pacific         rgb(162, 135, 113)   rgb(94, 113, 138)   \n",
      "Peaceful Bird Perch        rgb(97, 87, 140)   rgb(66, 119, 123)   \n",
      "Rogue Sweetheart             rgb(5, 56, 58)   rgb(164, 117, 81)   \n",
      "Resting Ballerina        rgb(183, 201, 195)   rgb(164, 117, 81)   \n",
      "Painted Town             rgb(253, 210, 119)  rgb(188, 148, 118)   \n",
      "Twilight Wood Ride       rgb(121, 120, 147)  rgb(202, 186, 165)   \n",
      "Bunches of Flowers           rgb(9, 10, 14)      rgb(118, 5, 4)   \n",
      "Winter Turnover          rgb(179, 187, 186)     rgb(30, 85, 21)   \n",
      "Sliced Citrus             rgb(251, 208, 68)   rgb(249, 160, 36)   \n",
      "Bursts of Blossoms           rgb(9, 10, 14)      rgb(118, 5, 4)   \n",
      "Sweet Indulgence         rgb(222, 179, 173)  rgb(186, 195, 191)   \n",
      "Rustic Market             rgb(102, 103, 98)     rgb(61, 86, 34)   \n",
      "Blissful Blooms            rgb(74, 104, 68)  rgb(144, 171, 145)   \n",
      "Spring Equinox            rgb(124, 43, 180)  rgb(209, 159, 198)   \n",
      "Lazy Weekends            rgb(172, 177, 172)   rgb(184, 154, 96)   \n",
      "Pastel Pyramids          rgb(255, 221, 195)  rgb(255, 244, 239)   \n",
      "Scattered Fruit             rgb(41, 41, 41)     rgb(98, 97, 33)   \n",
      "Vegan Kitchenette           rgb(23, 25, 32)   rgb(252, 201, 49)   \n",
      "Mud Rooftop                 rgb(22, 22, 21)    rgb(107, 78, 48)   \n",
      "From the Soil             rgb(131, 102, 83)     rgb(72, 49, 40)   \n",
      "Tranquil Waters          rgb(192, 214, 237)  rgb(250, 255, 255)   \n",
      "Steady Hunter              rgb(116, 87, 51)  rgb(168, 140, 106)   \n",
      "\n",
      "                                       RGB3                RGB4  \n",
      "Coral Goodies            rgb(244, 144, 105)  rgb(255, 216, 197)  \n",
      "Street Frenchie          rgb(137, 193, 187)   rgb(11, 183, 254)  \n",
      "Wheeling Through Sky     rgb(148, 207, 214)  rgb(224, 238, 229)  \n",
      "Moment for Macarons      rgb(239, 215, 133)   rgb(102, 101, 99)  \n",
      "Autumn Swim               rgb(28, 203, 153)    rgb(246, 177, 5)  \n",
      "Mists of Marshes            rgb(10, 75, 57)   rgb(93, 132, 135)  \n",
      "Enchanted Emerald Woods     rgb(116, 88, 0)     rgb(13, 96, 73)  \n",
      "Sauce Platter            rgb(161, 247, 161)   rgb(238, 177, 98)  \n",
      "Skeletal Light                rgb(5, 93, 5)    rgb(16, 188, 16)  \n",
      "Edible Goodness           rgb(121, 152, 32)    rgb(16, 188, 16)  \n",
      "Careful of Cracks        rgb(234, 232, 227)    rgb(147, 95, 76)  \n",
      "Fiery Shore              rgb(173, 196, 215)   rgb(91, 137, 174)  \n",
      "Teapot Roses              rgb(253, 56, 144)  rgb(107, 155, 176)  \n",
      "Clean Up Nice             rgb(197, 95, 252)  rgb(242, 237, 220)  \n",
      "Morning Exhale              rgb(29, 32, 68)  rgb(141, 175, 219)  \n",
      "Bubblegum Banana         rgb(106, 215, 212)    rgb(118, 62, 59)  \n",
      "Golfer's Glove             rgb(16, 67, 122)     rgb(0, 61, 122)  \n",
      "From the Pacific            rgb(0, 71, 143)     rgb(37, 34, 31)  \n",
      "Peaceful Bird Perch      rgb(132, 113, 113)     rgb(70, 89, 94)  \n",
      "Rogue Sweetheart           rgb(150, 42, 81)  rgb(150, 163, 158)  \n",
      "Resting Ballerina        rgb(208, 180, 159)  rgb(133, 123, 121)  \n",
      "Painted Town             rgb(239, 183, 184)  rgb(187, 214, 235)  \n",
      "Twilight Wood Ride          rgb(37, 42, 79)     rgb(12, 20, 70)  \n",
      "Bunches of Flowers         rgb(225, 91, 24)  rgb(251, 220, 106)  \n",
      "Winter Turnover             rgb(10, 38, 42)  rgb(205, 131, 110)  \n",
      "Sliced Citrus              rgb(146, 68, 58)     rgb(74, 35, 34)  \n",
      "Bursts of Blossoms          rgb(208, 83, 1)  rgb(251, 220, 106)  \n",
      "Sweet Indulgence         rgb(217, 133, 148)    rgb(178, 64, 64)  \n",
      "Rustic Market            rgb(128, 138, 120)  rgb(202, 154, 151)  \n",
      "Blissful Blooms           rgb(165, 80, 147)  rgb(234, 124, 179)  \n",
      "Spring Equinox              rgb(238, 53, 0)     rgb(0, 101, 71)  \n",
      "Lazy Weekends            rgb(225, 218, 160)   rgb(243, 204, 60)  \n",
      "Pastel Pyramids            rgb(255, 74, 59)  rgb(104, 129, 155)  \n",
      "Scattered Fruit           rgb(251, 192, 14)  rgb(228, 206, 141)  \n",
      "Vegan Kitchenette         rgb(128, 170, 64)  rgb(235, 228, 165)  \n",
      "Mud Rooftop                 rgb(74, 55, 32)  rgb(215, 183, 132)  \n",
      "From the Soil               rgb(51, 91, 80)  rgb(217, 228, 236)  \n",
      "Tranquil Waters          rgb(109, 238, 245)     rgb(94, 83, 34)  \n",
      "Steady Hunter               rgb(56, 38, 21)  rgb(226, 199, 156)  \n"
     ]
    }
   ],
   "source": [
    "# reshape the titles and color lists into a single pd.dataframe with each row representing a palette\n",
    "import pandas as pd\n",
    "import numpy as np\n",
    "import os\n",
    "\n",
    "# clean up color_RGB list from 'background-color: rgb(185, 183, 189);' to 'rgb(185, 183, 189)'\n",
    "CleanRGB=[]\n",
    "for RGB in color_RGB:\n",
    "    CleanRGB_1st = RGB.replace(\"background-color: \",\"\")\n",
    "    CleanRGB_2nd = CleanRGB_1st.replace(\";\",\"\")\n",
    "    CleanRGB.append(CleanRGB_2nd)\n",
    "\n",
    "# reshape RGB list to 40 by 4 np 2d arrary\n",
    "np.RGB = np.reshape(np.array(CleanRGB),(len(titles),4))\n",
    "\n",
    "# create columns names as RGB1-4\n",
    "c1 = pd.Series(['RGB']).repeat(4)\n",
    "c2 = pd.Series(range(1,5)).apply(str)\n",
    "colname = c1.str.cat(c2.values)\n",
    "\n",
    "pd.palette = pd.DataFrame(np.RGB, columns = colname)\n",
    "pd.palette.index = titles\n",
    "print(pd.palette)\n",
    "\n",
    "# export data frame into a csv file under working direction dir\n",
    "dir = os.getcwd()\n",
    "export_csv = pd.palette.to_csv (os.path.join(dir,r'page1_RGB_060919.csv'), index = True, header=True)"
   ]
  },
  {
   "cell_type": "code",
   "execution_count": 41,
   "metadata": {},
   "outputs": [],
   "source": [
    "# now loop through all the 99 pages to scratch all palette descriptions and RGB values\n",
    "# I already know the url looks like this https://www.canva.com/colors/color-palettes/page/2/\n",
    "\n",
    "from selenium import webdriver\n",
    "from selenium.webdriver.common.by import By\n",
    "from selenium.webdriver.support.ui import WebDriverWait\n",
    "from selenium.webdriver.support import expected_conditions as EC\n",
    "from selenium.common.exceptions import TimeoutException\n",
    "import os\n",
    "import pandas as pd\n",
    "import numpy as np"
   ]
  },
  {
   "cell_type": "code",
   "execution_count": 65,
   "metadata": {},
   "outputs": [],
   "source": [
    "def canvaPage(PageNumber) :\n",
    "    # Launch your browser\n",
    "    options = webdriver.ChromeOptions()\n",
    "    \n",
    "    # Initialize the driver and open the url\n",
    "    driver = webdriver.Chrome(options = options)\n",
    "    url_prefix = 'https://www.canva.com/colors/color-palettes/'\n",
    "    url = url_prefix + 'page/' + str(PageNumber) + '/'\n",
    "    driver.get(url)\n",
    "    \n",
    "    # wait up to 20 sec for the elements to become available\n",
    "    driver.implicitly_wait(20)\n",
    "\n",
    "    # find_elements_by_xpath returns an array of selenium objects\n",
    "    titles_element=driver.find_elements_by_xpath(\"//div[@class='_1XianT2_lSZt4p-pJUrEaY']\")\n",
    "\n",
    "    # use list comprehension to get the actual palette titles and not the selenium objects\n",
    "    titles = [x.text for x in titles_element]\n",
    "\n",
    "    # find_elements_by_xpath returns an array of selenium objects\n",
    "    color_element=driver.find_elements_by_xpath(\"//span[@class='_1guPYObY8qi2kFdVMr9G5R']\")\n",
    "\n",
    "    # use list comprehension to get the actual color RGB not the selenium objects\n",
    "    color = [x.get_attribute('style') for x in color_element]\n",
    "\n",
    "    # noticed that the first RGB belongs to a stand-alone & non-pallete-related element.\n",
    "    color_RGB = color [1:len(color)]\n",
    "    print('From page ' + str(PageNumber) + ': extracted ' + str(len(color_RGB)) + ' RGB values for ' + str(len(titles)) + ' palettes.')\n",
    "    \n",
    "    # close the window after a scratch \n",
    "    driver.close()\n",
    "    \n",
    "    # reshape the titles and color lists into a single pd.dataframe with each row representing a palette\n",
    "    # first, clean up color_RGB list from 'background-color: rgb(185, 183, 189);' to 'rgb(185, 183, 189)'\n",
    "    CleanRGB=[]\n",
    "    for RGB in color_RGB:\n",
    "        CleanRGB_1st = RGB.replace(\"background-color: \",\"\")\n",
    "        CleanRGB_2nd = CleanRGB_1st.replace(\";\",\"\")\n",
    "        CleanRGB.append(CleanRGB_2nd)\n",
    "\n",
    "    # reshape RGB list to n by 4 np 2d arrary, where n = number of palettes in this page\n",
    "    np.RGB = np.reshape(np.array(CleanRGB),(len(titles),4))\n",
    "\n",
    "    # create columns names as RGB1-4\n",
    "    c1 = pd.Series(['RGB']).repeat(4)\n",
    "    c2 = pd.Series(range(1,5)).apply(str)\n",
    "    colname = c1.str.cat(c2.values)\n",
    "\n",
    "    # read np.RGB into a pd.DataFrame and output\n",
    "    pd.palette = pd.DataFrame(np.RGB, columns = colname)\n",
    "    pd.palette.index = titles    \n",
    "    \n",
    "    return pd.palette\n",
    "    \n",
    "    "
   ]
  },
  {
   "cell_type": "code",
   "execution_count": null,
   "metadata": {},
   "outputs": [],
   "source": [
    "# Note that page 44 has a palette with just 2 colors, which causes an error toward the end of the function\n",
    "# Solution is to loop througe page 1-43 and page 45-99, while treating page 44 separately"
   ]
  },
  {
   "cell_type": "code",
   "execution_count": 67,
   "metadata": {
    "scrolled": true
   },
   "outputs": [
    {
     "name": "stdout",
     "output_type": "stream",
     "text": [
      "From page 1: extracted 160 RGB values for 40 palettes.\n",
      "From page 2: extracted 160 RGB values for 40 palettes.\n",
      "From page 3: extracted 160 RGB values for 40 palettes.\n",
      "From page 4: extracted 160 RGB values for 40 palettes.\n",
      "From page 5: extracted 160 RGB values for 40 palettes.\n",
      "From page 6: extracted 160 RGB values for 40 palettes.\n",
      "From page 7: extracted 160 RGB values for 40 palettes.\n",
      "From page 8: extracted 160 RGB values for 40 palettes.\n",
      "From page 9: extracted 160 RGB values for 40 palettes.\n",
      "From page 10: extracted 160 RGB values for 40 palettes.\n",
      "From page 11: extracted 160 RGB values for 40 palettes.\n",
      "From page 12: extracted 160 RGB values for 40 palettes.\n",
      "From page 13: extracted 160 RGB values for 40 palettes.\n",
      "From page 14: extracted 160 RGB values for 40 palettes.\n",
      "From page 15: extracted 160 RGB values for 40 palettes.\n",
      "From page 16: extracted 160 RGB values for 40 palettes.\n",
      "From page 17: extracted 160 RGB values for 40 palettes.\n",
      "From page 18: extracted 160 RGB values for 40 palettes.\n",
      "From page 19: extracted 160 RGB values for 40 palettes.\n",
      "From page 20: extracted 160 RGB values for 40 palettes.\n",
      "From page 21: extracted 160 RGB values for 40 palettes.\n",
      "From page 22: extracted 160 RGB values for 40 palettes.\n",
      "From page 23: extracted 160 RGB values for 40 palettes.\n",
      "From page 24: extracted 160 RGB values for 40 palettes.\n",
      "From page 25: extracted 160 RGB values for 40 palettes.\n",
      "From page 26: extracted 160 RGB values for 40 palettes.\n",
      "From page 27: extracted 160 RGB values for 40 palettes.\n",
      "From page 28: extracted 160 RGB values for 40 palettes.\n",
      "From page 29: extracted 160 RGB values for 40 palettes.\n",
      "From page 30: extracted 160 RGB values for 40 palettes.\n",
      "From page 31: extracted 160 RGB values for 40 palettes.\n",
      "From page 32: extracted 160 RGB values for 40 palettes.\n",
      "From page 33: extracted 160 RGB values for 40 palettes.\n",
      "From page 34: extracted 160 RGB values for 40 palettes.\n",
      "From page 35: extracted 160 RGB values for 40 palettes.\n",
      "From page 36: extracted 160 RGB values for 40 palettes.\n",
      "From page 37: extracted 160 RGB values for 40 palettes.\n",
      "From page 38: extracted 160 RGB values for 40 palettes.\n",
      "From page 39: extracted 160 RGB values for 40 palettes.\n",
      "From page 40: extracted 160 RGB values for 40 palettes.\n",
      "From page 41: extracted 160 RGB values for 40 palettes.\n",
      "From page 42: extracted 160 RGB values for 40 palettes.\n",
      "From page 43: extracted 160 RGB values for 40 palettes.\n",
      "From page 44: extracted 158 RGB values for 40 palettes.\n"
     ]
    },
    {
     "ename": "ValueError",
     "evalue": "cannot reshape array of size 158 into shape (40,4)",
     "output_type": "error",
     "traceback": [
      "\u001b[0;31m---------------------------------------------------------------------------\u001b[0m",
      "\u001b[0;31mValueError\u001b[0m                                Traceback (most recent call last)",
      "\u001b[0;32m<ipython-input-67-5090dfde7204>\u001b[0m in \u001b[0;36m<module>\u001b[0;34m\u001b[0m\n\u001b[1;32m      4\u001b[0m \u001b[0;34m\u001b[0m\u001b[0m\n\u001b[1;32m      5\u001b[0m \u001b[0;32mfor\u001b[0m \u001b[0mi\u001b[0m \u001b[0;32min\u001b[0m \u001b[0mrange\u001b[0m\u001b[0;34m(\u001b[0m\u001b[0;36m2\u001b[0m\u001b[0;34m,\u001b[0m\u001b[0;36m100\u001b[0m\u001b[0;34m)\u001b[0m\u001b[0;34m:\u001b[0m\u001b[0;34m\u001b[0m\u001b[0;34m\u001b[0m\u001b[0m\n\u001b[0;32m----> 6\u001b[0;31m     \u001b[0mpd_data\u001b[0m \u001b[0;34m=\u001b[0m \u001b[0mpd_data\u001b[0m\u001b[0;34m.\u001b[0m\u001b[0mappend\u001b[0m\u001b[0;34m(\u001b[0m\u001b[0mcanvaPage\u001b[0m\u001b[0;34m(\u001b[0m\u001b[0mPageNumber\u001b[0m\u001b[0;34m=\u001b[0m\u001b[0mi\u001b[0m\u001b[0;34m)\u001b[0m\u001b[0;34m)\u001b[0m\u001b[0;34m\u001b[0m\u001b[0;34m\u001b[0m\u001b[0m\n\u001b[0m\u001b[1;32m      7\u001b[0m \u001b[0;34m\u001b[0m\u001b[0m\n\u001b[1;32m      8\u001b[0m \u001b[0mprint\u001b[0m\u001b[0;34m(\u001b[0m\u001b[0mpd_data\u001b[0m\u001b[0;34m.\u001b[0m\u001b[0mshape\u001b[0m\u001b[0;34m)\u001b[0m\u001b[0;34m\u001b[0m\u001b[0;34m\u001b[0m\u001b[0m\n",
      "\u001b[0;32m<ipython-input-65-86264c1ce17e>\u001b[0m in \u001b[0;36mcanvaPage\u001b[0;34m(PageNumber)\u001b[0m\n\u001b[1;32m     40\u001b[0m \u001b[0;34m\u001b[0m\u001b[0m\n\u001b[1;32m     41\u001b[0m     \u001b[0;31m# reshape RGB list to n by 4 np 2d arrary, where n = number of palettes in this page\u001b[0m\u001b[0;34m\u001b[0m\u001b[0;34m\u001b[0m\u001b[0;34m\u001b[0m\u001b[0m\n\u001b[0;32m---> 42\u001b[0;31m     \u001b[0mnp\u001b[0m\u001b[0;34m.\u001b[0m\u001b[0mRGB\u001b[0m \u001b[0;34m=\u001b[0m \u001b[0mnp\u001b[0m\u001b[0;34m.\u001b[0m\u001b[0mreshape\u001b[0m\u001b[0;34m(\u001b[0m\u001b[0mnp\u001b[0m\u001b[0;34m.\u001b[0m\u001b[0marray\u001b[0m\u001b[0;34m(\u001b[0m\u001b[0mCleanRGB\u001b[0m\u001b[0;34m)\u001b[0m\u001b[0;34m,\u001b[0m\u001b[0;34m(\u001b[0m\u001b[0mlen\u001b[0m\u001b[0;34m(\u001b[0m\u001b[0mtitles\u001b[0m\u001b[0;34m)\u001b[0m\u001b[0;34m,\u001b[0m\u001b[0;36m4\u001b[0m\u001b[0;34m)\u001b[0m\u001b[0;34m)\u001b[0m\u001b[0;34m\u001b[0m\u001b[0;34m\u001b[0m\u001b[0m\n\u001b[0m\u001b[1;32m     43\u001b[0m \u001b[0;34m\u001b[0m\u001b[0m\n\u001b[1;32m     44\u001b[0m     \u001b[0;31m# create columns names as RGB1-4\u001b[0m\u001b[0;34m\u001b[0m\u001b[0;34m\u001b[0m\u001b[0;34m\u001b[0m\u001b[0m\n",
      "\u001b[0;32m~/anaconda3/envs/insight/lib/python3.7/site-packages/numpy/core/fromnumeric.py\u001b[0m in \u001b[0;36mreshape\u001b[0;34m(a, newshape, order)\u001b[0m\n\u001b[1;32m    290\u001b[0m            [5, 6]])\n\u001b[1;32m    291\u001b[0m     \"\"\"\n\u001b[0;32m--> 292\u001b[0;31m     \u001b[0;32mreturn\u001b[0m \u001b[0m_wrapfunc\u001b[0m\u001b[0;34m(\u001b[0m\u001b[0ma\u001b[0m\u001b[0;34m,\u001b[0m \u001b[0;34m'reshape'\u001b[0m\u001b[0;34m,\u001b[0m \u001b[0mnewshape\u001b[0m\u001b[0;34m,\u001b[0m \u001b[0morder\u001b[0m\u001b[0;34m=\u001b[0m\u001b[0morder\u001b[0m\u001b[0;34m)\u001b[0m\u001b[0;34m\u001b[0m\u001b[0;34m\u001b[0m\u001b[0m\n\u001b[0m\u001b[1;32m    293\u001b[0m \u001b[0;34m\u001b[0m\u001b[0m\n\u001b[1;32m    294\u001b[0m \u001b[0;34m\u001b[0m\u001b[0m\n",
      "\u001b[0;32m~/anaconda3/envs/insight/lib/python3.7/site-packages/numpy/core/fromnumeric.py\u001b[0m in \u001b[0;36m_wrapfunc\u001b[0;34m(obj, method, *args, **kwds)\u001b[0m\n\u001b[1;32m     54\u001b[0m \u001b[0;32mdef\u001b[0m \u001b[0m_wrapfunc\u001b[0m\u001b[0;34m(\u001b[0m\u001b[0mobj\u001b[0m\u001b[0;34m,\u001b[0m \u001b[0mmethod\u001b[0m\u001b[0;34m,\u001b[0m \u001b[0;34m*\u001b[0m\u001b[0margs\u001b[0m\u001b[0;34m,\u001b[0m \u001b[0;34m**\u001b[0m\u001b[0mkwds\u001b[0m\u001b[0;34m)\u001b[0m\u001b[0;34m:\u001b[0m\u001b[0;34m\u001b[0m\u001b[0;34m\u001b[0m\u001b[0m\n\u001b[1;32m     55\u001b[0m     \u001b[0;32mtry\u001b[0m\u001b[0;34m:\u001b[0m\u001b[0;34m\u001b[0m\u001b[0;34m\u001b[0m\u001b[0m\n\u001b[0;32m---> 56\u001b[0;31m         \u001b[0;32mreturn\u001b[0m \u001b[0mgetattr\u001b[0m\u001b[0;34m(\u001b[0m\u001b[0mobj\u001b[0m\u001b[0;34m,\u001b[0m \u001b[0mmethod\u001b[0m\u001b[0;34m)\u001b[0m\u001b[0;34m(\u001b[0m\u001b[0;34m*\u001b[0m\u001b[0margs\u001b[0m\u001b[0;34m,\u001b[0m \u001b[0;34m**\u001b[0m\u001b[0mkwds\u001b[0m\u001b[0;34m)\u001b[0m\u001b[0;34m\u001b[0m\u001b[0;34m\u001b[0m\u001b[0m\n\u001b[0m\u001b[1;32m     57\u001b[0m \u001b[0;34m\u001b[0m\u001b[0m\n\u001b[1;32m     58\u001b[0m     \u001b[0;31m# An AttributeError occurs if the object does not have\u001b[0m\u001b[0;34m\u001b[0m\u001b[0;34m\u001b[0m\u001b[0;34m\u001b[0m\u001b[0m\n",
      "\u001b[0;31mValueError\u001b[0m: cannot reshape array of size 158 into shape (40,4)"
     ]
    }
   ],
   "source": [
    "# page 1-43\n",
    "# use function canvaPage(PageNumber) to scrape into pd_data\n",
    "# first, initialize data with page 1\n",
    "pd_data1 = canvaPage(PageNumber = 1)\n",
    "\n",
    "for i in range(2,44):\n",
    "    pd_data1 = pd_data.append(canvaPage(PageNumber=i))\n",
    "    \n",
    "print(pd_data1.shape)\n",
    "\n",
    "# export data frame into a csv file under working direction dir\n",
    "print(pd_data1.shape)\n",
    "#dir = os.getcwd()\n",
    "#export_csv = pd_data.to_csv (os.path.join(dir,r'page1-43_RGB_061019.csv'), index = True, header=True)"
   ]
  },
  {
   "cell_type": "code",
   "execution_count": 71,
   "metadata": {},
   "outputs": [
    {
     "name": "stdout",
     "output_type": "stream",
     "text": [
      "From page 45: extracted 160 RGB values for 40 palettes.\n",
      "From page 46: extracted 160 RGB values for 40 palettes.\n",
      "From page 47: extracted 160 RGB values for 40 palettes.\n",
      "From page 48: extracted 160 RGB values for 40 palettes.\n",
      "From page 49: extracted 160 RGB values for 40 palettes.\n",
      "From page 50: extracted 160 RGB values for 40 palettes.\n",
      "From page 51: extracted 160 RGB values for 40 palettes.\n",
      "From page 52: extracted 160 RGB values for 40 palettes.\n",
      "From page 53: extracted 160 RGB values for 40 palettes.\n",
      "From page 54: extracted 160 RGB values for 40 palettes.\n",
      "From page 55: extracted 160 RGB values for 40 palettes.\n",
      "From page 56: extracted 160 RGB values for 40 palettes.\n",
      "From page 57: extracted 160 RGB values for 40 palettes.\n",
      "From page 58: extracted 160 RGB values for 40 palettes.\n",
      "From page 59: extracted 160 RGB values for 40 palettes.\n",
      "From page 60: extracted 160 RGB values for 40 palettes.\n",
      "From page 61: extracted 160 RGB values for 40 palettes.\n",
      "From page 62: extracted 160 RGB values for 40 palettes.\n",
      "From page 63: extracted 160 RGB values for 40 palettes.\n",
      "From page 64: extracted 160 RGB values for 40 palettes.\n",
      "From page 65: extracted 160 RGB values for 40 palettes.\n",
      "From page 66: extracted 160 RGB values for 40 palettes.\n",
      "From page 67: extracted 160 RGB values for 40 palettes.\n",
      "From page 68: extracted 160 RGB values for 40 palettes.\n",
      "From page 69: extracted 160 RGB values for 40 palettes.\n",
      "From page 70: extracted 160 RGB values for 40 palettes.\n",
      "From page 71: extracted 160 RGB values for 40 palettes.\n",
      "From page 72: extracted 160 RGB values for 40 palettes.\n",
      "From page 73: extracted 160 RGB values for 40 palettes.\n",
      "From page 74: extracted 160 RGB values for 40 palettes.\n",
      "From page 75: extracted 160 RGB values for 40 palettes.\n",
      "From page 76: extracted 160 RGB values for 40 palettes.\n",
      "From page 77: extracted 160 RGB values for 40 palettes.\n",
      "From page 78: extracted 160 RGB values for 40 palettes.\n",
      "From page 79: extracted 160 RGB values for 40 palettes.\n",
      "From page 80: extracted 160 RGB values for 40 palettes.\n",
      "From page 81: extracted 160 RGB values for 40 palettes.\n",
      "From page 82: extracted 160 RGB values for 40 palettes.\n",
      "From page 83: extracted 160 RGB values for 40 palettes.\n",
      "From page 84: extracted 160 RGB values for 40 palettes.\n",
      "From page 85: extracted 160 RGB values for 40 palettes.\n",
      "From page 86: extracted 160 RGB values for 40 palettes.\n",
      "From page 87: extracted 160 RGB values for 40 palettes.\n",
      "From page 88: extracted 160 RGB values for 40 palettes.\n",
      "From page 89: extracted 160 RGB values for 40 palettes.\n",
      "From page 90: extracted 160 RGB values for 40 palettes.\n",
      "From page 91: extracted 160 RGB values for 40 palettes.\n",
      "From page 92: extracted 160 RGB values for 40 palettes.\n",
      "From page 93: extracted 160 RGB values for 40 palettes.\n",
      "From page 94: extracted 160 RGB values for 40 palettes.\n",
      "From page 95: extracted 160 RGB values for 40 palettes.\n",
      "From page 96: extracted 160 RGB values for 40 palettes.\n",
      "From page 97: extracted 160 RGB values for 40 palettes.\n",
      "From page 98: extracted 160 RGB values for 40 palettes.\n",
      "From page 99: extracted 52 RGB values for 13 palettes.\n",
      "(2173, 4)\n",
      "(2173, 4)\n"
     ]
    },
    {
     "ename": "AttributeError",
     "evalue": "module 'pandas' has no attribute 'data45'",
     "output_type": "error",
     "traceback": [
      "\u001b[0;31m---------------------------------------------------------------------------\u001b[0m",
      "\u001b[0;31mAttributeError\u001b[0m                            Traceback (most recent call last)",
      "\u001b[0;32m<ipython-input-71-ed717e9662c4>\u001b[0m in \u001b[0;36m<module>\u001b[0;34m\u001b[0m\n\u001b[1;32m      9\u001b[0m \u001b[0mprint\u001b[0m\u001b[0;34m(\u001b[0m\u001b[0mpd_data45\u001b[0m\u001b[0;34m.\u001b[0m\u001b[0mshape\u001b[0m\u001b[0;34m)\u001b[0m\u001b[0;34m\u001b[0m\u001b[0;34m\u001b[0m\u001b[0m\n\u001b[1;32m     10\u001b[0m \u001b[0mdir\u001b[0m \u001b[0;34m=\u001b[0m \u001b[0mos\u001b[0m\u001b[0;34m.\u001b[0m\u001b[0mgetcwd\u001b[0m\u001b[0;34m(\u001b[0m\u001b[0;34m)\u001b[0m\u001b[0;34m\u001b[0m\u001b[0;34m\u001b[0m\u001b[0m\n\u001b[0;32m---> 11\u001b[0;31m \u001b[0mexport_csv\u001b[0m \u001b[0;34m=\u001b[0m \u001b[0mpd\u001b[0m\u001b[0;34m.\u001b[0m\u001b[0mdata45\u001b[0m\u001b[0;34m.\u001b[0m\u001b[0mto_csv\u001b[0m \u001b[0;34m(\u001b[0m\u001b[0mos\u001b[0m\u001b[0;34m.\u001b[0m\u001b[0mpath\u001b[0m\u001b[0;34m.\u001b[0m\u001b[0mjoin\u001b[0m\u001b[0;34m(\u001b[0m\u001b[0mdir\u001b[0m\u001b[0;34m,\u001b[0m\u001b[0;34mr'page45-99_RGB_061019.csv'\u001b[0m\u001b[0;34m)\u001b[0m\u001b[0;34m,\u001b[0m \u001b[0mindex\u001b[0m \u001b[0;34m=\u001b[0m \u001b[0;32mTrue\u001b[0m\u001b[0;34m,\u001b[0m \u001b[0mheader\u001b[0m\u001b[0;34m=\u001b[0m\u001b[0;32mTrue\u001b[0m\u001b[0;34m)\u001b[0m\u001b[0;34m\u001b[0m\u001b[0;34m\u001b[0m\u001b[0m\n\u001b[0m",
      "\u001b[0;31mAttributeError\u001b[0m: module 'pandas' has no attribute 'data45'"
     ]
    }
   ],
   "source": [
    "# page 45-99\n",
    "# initialize data with page 45\n",
    "pd_data45 = canvaPage(PageNumber = 45)\n",
    "\n",
    "for i in range(46,100):\n",
    "    pd_data45 = pd_data45.append(canvaPage(PageNumber=i))\n",
    "    \n",
    "print(pd_data45.shape)\n",
    "\n",
    "# export data frame into a csv file under working direction dir\n",
    "print(pd_data45.shape)\n",
    "dir = os.getcwd()\n",
    "#export_csv = pd_data45.to_csv (os.path.join(dir,r'page45-99_RGB_061019.csv'), index = True, header=True)"
   ]
  },
  {
   "cell_type": "code",
   "execution_count": 120,
   "metadata": {},
   "outputs": [
    {
     "name": "stdout",
     "output_type": "stream",
     "text": [
      "From page 44: extracted 158 RGB values for 40 palettes.\n"
     ]
    }
   ],
   "source": [
    "# page 44\n",
    "# Launch your browser\n",
    "options = webdriver.ChromeOptions()\n",
    "    \n",
    "# Initialize the driver and open the url\n",
    "driver = webdriver.Chrome(options = options)\n",
    "url_prefix = 'https://www.canva.com/colors/color-palettes/'\n",
    "url = url_prefix + 'page/' + str(44) + '/'\n",
    "driver.get(url)\n",
    "    \n",
    "# wait up to 20 sec for the elements to become available\n",
    "driver.implicitly_wait(20)\n",
    "\n",
    "# find_elements_by_xpath returns an array of selenium objects\n",
    "titles_element=driver.find_elements_by_xpath(\"//div[@class='_1XianT2_lSZt4p-pJUrEaY']\")\n",
    "\n",
    "# use list comprehension to get the actual palette titles and not the selenium objects\n",
    "titles = [x.text for x in titles_element]\n",
    "\n",
    "# find_elements_by_xpath returns an array of selenium objects\n",
    "color_element=driver.find_elements_by_xpath(\"//span[@class='_1guPYObY8qi2kFdVMr9G5R']\")\n",
    "\n",
    "# use list comprehension to get the actual color RGB not the selenium objects\n",
    "color = [x.get_attribute('style') for x in color_element]\n",
    "\n",
    "# noticed that the first RGB belongs to a stand-alone & non-pallete-related element.\n",
    "color_RGB = color [1:len(color)]\n",
    "print('From page ' + str(44) + ': extracted ' + str(len(color_RGB)) + ' RGB values for ' + str(len(titles)) + ' palettes.')\n",
    "    \n",
    "# close the window after a scratch \n",
    "driver.close()"
   ]
  },
  {
   "cell_type": "code",
   "execution_count": 121,
   "metadata": {},
   "outputs": [
    {
     "data": {
      "text/plain": [
       "'Alpine Tumble'"
      ]
     },
     "execution_count": 121,
     "metadata": {},
     "output_type": "execute_result"
    }
   ],
   "source": [
    "# confirm 'Alpine Tumble' index\n",
    "titles[29]"
   ]
  },
  {
   "cell_type": "code",
   "execution_count": 122,
   "metadata": {},
   "outputs": [],
   "source": [
    "# remove 'Alpine Tumble' from list\n",
    "del titles[29]"
   ]
  },
  {
   "cell_type": "code",
   "execution_count": 123,
   "metadata": {},
   "outputs": [
    {
     "name": "stdout",
     "output_type": "stream",
     "text": [
      "0               Coral Goodies\n",
      "1             Street Frenchie\n",
      "2        Wheeling Through Sky\n",
      "3         Moment for Macarons\n",
      "4                 Autumn Swim\n",
      "5            Mists of Marshes\n",
      "6     Enchanted Emerald Woods\n",
      "7               Sauce Platter\n",
      "8              Skeletal Light\n",
      "9             Edible Goodness\n",
      "10          Careful of Cracks\n",
      "11                Fiery Shore\n",
      "12               Teapot Roses\n",
      "13              Clean Up Nice\n",
      "14             Morning Exhale\n",
      "15           Bubblegum Banana\n",
      "16             Golfer's Glove\n",
      "17           From the Pacific\n",
      "18        Peaceful Bird Perch\n",
      "19           Rogue Sweetheart\n",
      "20          Resting Ballerina\n",
      "21               Painted Town\n",
      "22         Twilight Wood Ride\n",
      "23         Bunches of Flowers\n",
      "24            Winter Turnover\n",
      "25              Sliced Citrus\n",
      "26         Bursts of Blossoms\n",
      "27           Sweet Indulgence\n",
      "28              Rustic Market\n",
      "29            Blissful Blooms\n",
      "30             Spring Equinox\n",
      "31              Lazy Weekends\n",
      "32            Pastel Pyramids\n",
      "33            Scattered Fruit\n",
      "34          Vegan Kitchenette\n",
      "35                Mud Rooftop\n",
      "36              From the Soil\n",
      "37            Tranquil Waters\n",
      "38              Steady Hunter\n",
      "dtype: object\n"
     ]
    }
   ],
   "source": [
    "# confirm it's removed\n",
    "print(pd.Series(titles))"
   ]
  },
  {
   "cell_type": "code",
   "execution_count": 124,
   "metadata": {},
   "outputs": [
    {
     "data": {
      "text/plain": [
       "['background-color: rgb(193, 188, 184);', 'background-color: rgb(49, 53, 46);']"
      ]
     },
     "execution_count": 124,
     "metadata": {},
     "output_type": "execute_result"
    }
   ],
   "source": [
    "# check the two RGB corresponding to 'Alpine Tumble'\n",
    "# #c1bcb8: RGB(193,188,184) and #31352e: RGB(49,53,46)\n",
    "color_RGB[-42:-40]"
   ]
  },
  {
   "cell_type": "code",
   "execution_count": 125,
   "metadata": {},
   "outputs": [],
   "source": [
    "# remove the two RGB\n",
    "del color_RGB[-42:-40]"
   ]
  },
  {
   "cell_type": "code",
   "execution_count": 126,
   "metadata": {},
   "outputs": [
    {
     "name": "stdout",
     "output_type": "stream",
     "text": [
      "0    background-color: rgb(202, 154, 151);\n",
      "1      background-color: rgb(74, 104, 68);\n",
      "dtype: object\n"
     ]
    }
   ],
   "source": [
    "# print RGB before and after removed elements\n",
    "# RGB before is #ca9a97: RGB(202,154,151)\n",
    "# RGB after is #4a6844: RGB(74,104,68)\n",
    "print (pd.Series(color_RGB[115:117]))"
   ]
  },
  {
   "cell_type": "code",
   "execution_count": 127,
   "metadata": {},
   "outputs": [],
   "source": [
    "# reshape lists color_RGB and titles into page44 dataframe\n",
    "CleanRGB=[]\n",
    "for RGB in color_RGB:\n",
    "    CleanRGB_1st = RGB.replace(\"background-color: \",\"\")\n",
    "    CleanRGB_2nd = CleanRGB_1st.replace(\";\",\"\")\n",
    "    CleanRGB.append(CleanRGB_2nd)\n",
    "\n",
    "# reshape RGB list to n by 4 np 2d arrary, where n = number of palettes in this page\n",
    "np.RGB = np.reshape(np.array(CleanRGB),(len(titles),4))\n",
    "\n",
    "# create columns names as RGB1-4\n",
    "c1 = pd.Series(['RGB']).repeat(4)\n",
    "c2 = pd.Series(range(1,5)).apply(str)\n",
    "colname = c1.str.cat(c2.values)\n",
    "\n",
    "# read np.RGB into a pd.DataFrame and output\n",
    "pd_data44 = pd.DataFrame(np.RGB, columns = colname)\n",
    "pd_data44.index = titles  "
   ]
  },
  {
   "cell_type": "code",
   "execution_count": 128,
   "metadata": {},
   "outputs": [
    {
     "name": "stdout",
     "output_type": "stream",
     "text": [
      "(39, 4)\n"
     ]
    }
   ],
   "source": [
    "print(pd_data44.shape)"
   ]
  },
  {
   "cell_type": "code",
   "execution_count": 129,
   "metadata": {},
   "outputs": [],
   "source": [
    "# append pd_data44 (page44) and pd_data45 (page45 and onwards) to pd_data (page1-43)\n",
    "pd_data_all = pd_data.append([pd_data44,pd_data45])"
   ]
  },
  {
   "cell_type": "code",
   "execution_count": 130,
   "metadata": {},
   "outputs": [
    {
     "name": "stdout",
     "output_type": "stream",
     "text": [
      "(3932, 4)\n"
     ]
    }
   ],
   "source": [
    "print(pd_data_all.shape)"
   ]
  },
  {
   "cell_type": "code",
   "execution_count": 117,
   "metadata": {},
   "outputs": [],
   "source": [
    "# export data frame into a csv file under working direction dir\n",
    "dir = os.getcwd()\n",
    "#export_csv = pd_data_all.to_csv (os.path.join(dir,r'page1-99_RGB_061019.csv'), index = True, header=True)"
   ]
  }
 ],
 "metadata": {
  "kernelspec": {
   "display_name": "Python 3",
   "language": "python",
   "name": "python3"
  },
  "language_info": {
   "codemirror_mode": {
    "name": "ipython",
    "version": 3
   },
   "file_extension": ".py",
   "mimetype": "text/x-python",
   "name": "python",
   "nbconvert_exporter": "python",
   "pygments_lexer": "ipython3",
   "version": "3.7.3"
  }
 },
 "nbformat": 4,
 "nbformat_minor": 2
}
