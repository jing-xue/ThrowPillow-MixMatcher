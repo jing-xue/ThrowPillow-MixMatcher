{
 "cells": [
  {
   "cell_type": "code",
   "execution_count": 39,
   "metadata": {},
   "outputs": [
    {
     "data": {
      "text/plain": [
       "'/Users/jing/Documents/ipynb'"
      ]
     },
     "execution_count": 39,
     "metadata": {},
     "output_type": "execute_result"
    }
   ],
   "source": [
    "#I aim to scrape designer color palellets (color RGB/Hex and palette name)\n",
    "#url is \"https://www.canva.com/colors/color-palettes/page/2/\"  where page ranges between 1 to 99\n",
    "#credit to \"https://medium.com/the-andela-way/introduction-to-web-scraping-using-selenium-7ec377a8cf72\"\n",
    "#credit to \"https://intoli.com/blog/running-selenium-with-headless-chrome/\"\n",
    "from selenium import webdriver\n",
    "from selenium.webdriver.common.by import By\n",
    "from selenium.webdriver.support.ui import WebDriverWait\n",
    "from selenium.webdriver.support import expected_conditions as EC\n",
    "from selenium.common.exceptions import TimeoutException\n",
    "import os\n",
    "dir = os.getcwd()"
   ]
  },
  {
   "cell_type": "code",
   "execution_count": 40,
   "metadata": {},
   "outputs": [],
   "source": [
    "# Launch your browser\n",
    "options = webdriver.ChromeOptions()\n",
    "#options.add_argument(\"--incognito\")"
   ]
  },
  {
   "cell_type": "code",
   "execution_count": 41,
   "metadata": {
    "scrolled": true
   },
   "outputs": [],
   "source": [
    "# Initialize the driver\n",
    "driver = webdriver.Chrome(options = options)"
   ]
  },
  {
   "cell_type": "code",
   "execution_count": 42,
   "metadata": {},
   "outputs": [],
   "source": [
    "driver.get('https://www.canva.com/colors/color-palettes/')\n",
    "\n",
    "#wait up to 10 sec for the elements to become available\n",
    "driver.implicitly_wait(10)"
   ]
  },
  {
   "cell_type": "code",
   "execution_count": 44,
   "metadata": {},
   "outputs": [
    {
     "name": "stdout",
     "output_type": "stream",
     "text": [
      "titles:\n",
      "['Up Shore', 'Thwarted Summer Shower', 'Luscious Lemonade', 'Rosettes and Cream', 'Berry Blues', 'Mermaid Lagoon', 'Emerald Entrance', 'Healthy Leaves', 'Room for Comfort', 'Wild Orchid', 'Diaphanous Jellyfish', 'Window Tide', 'Berry Jar', 'Petal Party', 'Pasture of Dreams', 'Retro Punch', 'Bamboo Beach', 'In the Blue', 'Foil-covered Sneakers', 'Mellow Barnyard', 'Athleisure Style', 'Soft Focus Forest', 'Salmon Sushi', 'Icy Gradient', 'Pomegranate on Print', 'Green Tracks', 'Way up North', 'Sea of Serenity', 'Melted Ice Cream', 'Watermelon and Stripes', 'Crystal Feline', 'Northern Lights', 'Rosy Dew', 'Butterfly Kisses', 'Blushing Landscape', 'Pale Blossom', 'Strawberry Froth', 'Center of Life', 'Sweet Orchid', 'Thirst Quencher'] \n",
      "\n"
     ]
    }
   ],
   "source": [
    "# find_elements_by_xpath returns an array of selenium objects\n",
    "titles_element=driver.find_elements_by_xpath(\"//div[@class='_1XianT2_lSZt4p-pJUrEaY']\")\n",
    "\n",
    "# use list comprehension to get the actual palette titles and not the selenium objects\n",
    "titles = [x.text for x in titles_element]\n",
    "\n",
    "# print out all the titles\n",
    "print ('titles:')\n",
    "print (titles, '\\n')"
   ]
  },
  {
   "cell_type": "code",
   "execution_count": 56,
   "metadata": {
    "scrolled": true
   },
   "outputs": [
    {
     "name": "stdout",
     "output_type": "stream",
     "text": [
      "color RGB:\n",
      "['background-color: rgb(177, 225, 255);', 'background-color: rgb(2, 146, 183);', 'background-color: rgb(26, 200, 219);', 'background-color: rgb(140, 117, 106);', 'background-color: rgb(222, 226, 236);', 'background-color: rgb(76, 82, 112);', 'background-color: rgb(246, 82, 160);', 'background-color: rgb(54, 238, 224);', 'background-color: rgb(188, 236, 224);', 'background-color: rgb(225, 195, 64);', 'background-color: rgb(76, 215, 208);', 'background-color: rgb(164, 232, 224);', 'background-color: rgb(248, 234, 140);', 'background-color: rgb(216, 167, 177);', 'background-color: rgb(182, 226, 211);', 'background-color: rgb(250, 232, 224);', 'background-color: rgb(239, 124, 142);', 'background-color: rgb(78, 26, 61);', 'background-color: rgb(207, 238, 209);', 'background-color: rgb(255, 39, 104);', 'background-color: rgb(5, 224, 233);', 'background-color: rgb(177, 212, 224);', 'background-color: rgb(46, 139, 192);', 'background-color: rgb(12, 45, 72);', 'background-color: rgb(20, 93, 160);', 'background-color: rgb(182, 141, 64);', 'background-color: rgb(244, 235, 208);', 'background-color: rgb(18, 38, 32);', 'background-color: rgb(214, 173, 96);', 'background-color: rgb(89, 152, 26);', 'background-color: rgb(236, 248, 127);', 'background-color: rgb(129, 182, 34);', 'background-color: rgb(61, 85, 12);', 'background-color: rgb(238, 237, 231);', 'background-color: rgb(134, 139, 142);', 'background-color: rgb(185, 183, 189);', 'background-color: rgb(231, 210, 204);', 'background-color: rgb(116, 26, 172);', 'background-color: rgb(52, 7, 68);', 'background-color: rgb(222, 186, 214);', 'background-color: rgb(0, 84, 55);', 'background-color: rgb(4, 31, 96);', 'background-color: rgb(4, 118, 208);', 'background-color: rgb(44, 238, 240);', 'background-color: rgb(180, 245, 240);', 'background-color: rgb(195, 224, 229);', 'background-color: rgb(39, 68, 114);', 'background-color: rgb(88, 133, 175);', 'background-color: rgb(65, 114, 159);', 'background-color: rgb(248, 56, 57);', 'background-color: rgb(81, 59, 65);', 'background-color: rgb(127, 229, 240);', 'background-color: rgb(200, 244, 249);', 'background-color: rgb(135, 10, 48);', 'background-color: rgb(236, 143, 208);', 'background-color: rgb(212, 55, 144);', 'background-color: rgb(242, 197, 224);', 'background-color: rgb(97, 54, 89);', 'background-color: rgb(33, 21, 34);', 'background-color: rgb(193, 151, 210);', 'background-color: rgb(211, 177, 194);', 'background-color: rgb(245, 23, 32);', 'background-color: rgb(250, 38, 160);', 'background-color: rgb(248, 210, 16);', 'background-color: rgb(47, 243, 224);', 'background-color: rgb(93, 108, 137);', 'background-color: rgb(54, 214, 231);', 'background-color: rgb(254, 176, 106);', 'background-color: rgb(251, 246, 243);', 'background-color: rgb(12, 105, 128);', 'background-color: rgb(0, 168, 168);', 'background-color: rgb(46, 181, 224);', 'background-color: rgb(196, 219, 224);', 'background-color: rgb(51, 54, 82);', 'background-color: rgb(250, 208, 44);', 'background-color: rgb(233, 234, 236);', 'background-color: rgb(144, 173, 198);', 'background-color: rgb(40, 33, 32);', 'background-color: rgb(250, 208, 44);', 'background-color: rgb(248, 239, 228);', 'background-color: rgb(230, 194, 191);', 'background-color: rgb(206, 35, 128);', 'background-color: rgb(214, 223, 224);', 'background-color: rgb(23, 24, 16);', 'background-color: rgb(7, 218, 192);', 'background-color: rgb(12, 20, 70);', 'background-color: rgb(135, 172, 163);', 'background-color: rgb(43, 124, 133);', 'background-color: rgb(23, 88, 115);', 'background-color: rgb(231, 242, 248);', 'background-color: rgb(116, 189, 203);', 'background-color: rgb(255, 163, 132);', 'background-color: rgb(239, 231, 188);', 'background-color: rgb(238, 181, 235);', 'background-color: rgb(194, 109, 188);', 'background-color: rgb(200, 244, 249);', 'background-color: rgb(60, 172, 174);', 'background-color: rgb(239, 235, 226);', 'background-color: rgb(177, 117, 255);', 'background-color: rgb(171, 5, 82);', 'background-color: rgb(7, 4, 10);', 'background-color: rgb(67, 177, 75);', 'background-color: rgb(230, 215, 213);', 'background-color: rgb(158, 111, 109);', 'background-color: rgb(30, 49, 72);', 'background-color: rgb(30, 61, 88);', 'background-color: rgb(5, 125, 205);', 'background-color: rgb(67, 176, 241);', 'background-color: rgb(232, 238, 241);', 'background-color: rgb(5, 157, 192);', 'background-color: rgb(106, 242, 240);', 'background-color: rgb(4, 212, 240);', 'background-color: rgb(4, 236, 240);', 'background-color: rgb(246, 200, 204);', 'background-color: rgb(235, 245, 247);', 'background-color: rgb(193, 91, 120);', 'background-color: rgb(91, 176, 186);', 'background-color: rgb(29, 116, 27);', 'background-color: rgb(136, 202, 94);', 'background-color: rgb(241, 192, 185);', 'background-color: rgb(210, 251, 164);', 'background-color: rgb(82, 152, 193);', 'background-color: rgb(18, 49, 117);', 'background-color: rgb(192, 194, 201);', 'background-color: rgb(99, 116, 122);', 'background-color: rgb(234, 234, 224);', 'background-color: rgb(28, 70, 112);', 'background-color: rgb(39, 138, 176);', 'background-color: rgb(29, 198, 144);', 'background-color: rgb(249, 241, 240);', 'background-color: rgb(250, 220, 217);', 'background-color: rgb(248, 175, 166);', 'background-color: rgb(247, 148, 137);', 'background-color: rgb(160, 47, 0);', 'background-color: rgb(159, 199, 170);', 'background-color: rgb(96, 46, 158);', 'background-color: rgb(180, 100, 163);', 'background-color: rgb(255, 136, 130);', 'background-color: rgb(84, 56, 85);', 'background-color: rgb(232, 141, 114);', 'background-color: rgb(255, 163, 132);', 'background-color: rgb(225, 226, 231);', 'background-color: rgb(252, 192, 197);', 'background-color: rgb(191, 76, 65);', 'background-color: rgb(152, 4, 45);', 'background-color: rgb(228, 61, 64);', 'background-color: rgb(243, 121, 112);', 'background-color: rgb(248, 92, 112);', 'background-color: rgb(250, 190, 192);', 'background-color: rgb(228, 70, 80);', 'background-color: rgb(235, 99, 160);', 'background-color: rgb(251, 209, 96);', 'background-color: rgb(248, 168, 197);', 'background-color: rgb(110, 53, 98);', 'background-color: rgb(209, 3, 209);', 'background-color: rgb(109, 131, 67);', 'background-color: rgb(163, 193, 74);', 'background-color: rgb(254, 222, 0);', 'background-color: rgb(180, 248, 200);', 'background-color: rgb(106, 184, 238);', 'background-color: rgb(168, 217, 248);'] \n",
      "\n"
     ]
    }
   ],
   "source": [
    "# find_elements_by_xpath returns an array of selenium objects\n",
    "color_element=driver.find_elements_by_xpath(\"//span[@class='_1guPYObY8qi2kFdVMr9G5R']\")\n",
    "\n",
    "# use list comprehension to get the actual color RGB not the selenium objects\n",
    "color = [x.get_attribute('style') for x in color_element]\n",
    "\n",
    "# print out all the titles\n",
    "\n",
    "print ('color RGB:')\n",
    "print (color, '\\n')"
   ]
  },
  {
   "cell_type": "code",
   "execution_count": 64,
   "metadata": {},
   "outputs": [
    {
     "name": "stdout",
     "output_type": "stream",
     "text": [
      "Extracted 161 RGB values for 40 palettes.\n"
     ]
    }
   ],
   "source": [
    "# examine if number of color RGB match with number of palettes\n",
    "# 4 color RGB for each palette\n",
    "print('Extracted ' + str(len(color)) + ' RGB values for ' + str(len(titles)) + ' palettes.')"
   ]
  },
  {
   "cell_type": "code",
   "execution_count": 65,
   "metadata": {},
   "outputs": [
    {
     "name": "stdout",
     "output_type": "stream",
     "text": [
      "Actually, extracted 160 RGB values for 40 palettes.\n"
     ]
    }
   ],
   "source": [
    "# noticed that the first RGB belongs to a stand-alone & non-pallete-related element.\n",
    "color_RGB = color [1:len(color)]\n",
    "print('Actually, extracted ' + str(len(color_RGB)) + ' RGB values for ' + str(len(titles)) + ' palettes.')"
   ]
  },
  {
   "cell_type": "code",
   "execution_count": 116,
   "metadata": {},
   "outputs": [
    {
     "name": "stdout",
     "output_type": "stream",
     "text": [
      "                                      RGB1                RGB2  \\\n",
      "Up Shore                  rgb(2, 146, 183)   rgb(26, 200, 219)   \n",
      "Thwarted Summer Shower    rgb(76, 82, 112)   rgb(246, 82, 160)   \n",
      "Luscious Lemonade        rgb(225, 195, 64)   rgb(76, 215, 208)   \n",
      "Rosettes and Cream      rgb(216, 167, 177)  rgb(182, 226, 211)   \n",
      "Berry Blues                rgb(78, 26, 61)  rgb(207, 238, 209)   \n",
      "Mermaid Lagoon          rgb(177, 212, 224)   rgb(46, 139, 192)   \n",
      "Emerald Entrance         rgb(182, 141, 64)  rgb(244, 235, 208)   \n",
      "Healthy Leaves            rgb(89, 152, 26)  rgb(236, 248, 127)   \n",
      "Room for Comfort        rgb(238, 237, 231)  rgb(134, 139, 142)   \n",
      "Wild Orchid              rgb(116, 26, 172)      rgb(52, 7, 68)   \n",
      "Diaphanous Jellyfish        rgb(4, 31, 96)    rgb(4, 118, 208)   \n",
      "Window Tide             rgb(195, 224, 229)    rgb(39, 68, 114)   \n",
      "Berry Jar                 rgb(248, 56, 57)     rgb(81, 59, 65)   \n",
      "Petal Party               rgb(135, 10, 48)  rgb(236, 143, 208)   \n",
      "Pasture of Dreams          rgb(97, 54, 89)     rgb(33, 21, 34)   \n",
      "Retro Punch               rgb(245, 23, 32)   rgb(250, 38, 160)   \n",
      "Bamboo Beach             rgb(93, 108, 137)   rgb(54, 214, 231)   \n",
      "In the Blue              rgb(12, 105, 128)    rgb(0, 168, 168)   \n",
      "Foil-covered Sneakers      rgb(51, 54, 82)   rgb(250, 208, 44)   \n",
      "Mellow Barnyard            rgb(40, 33, 32)   rgb(250, 208, 44)   \n",
      "Athleisure Style         rgb(206, 35, 128)  rgb(214, 223, 224)   \n",
      "Soft Focus Forest          rgb(12, 20, 70)  rgb(135, 172, 163)   \n",
      "Salmon Sushi            rgb(231, 242, 248)  rgb(116, 189, 203)   \n",
      "Icy Gradient            rgb(238, 181, 235)  rgb(194, 109, 188)   \n",
      "Pomegranate on Print    rgb(239, 235, 226)  rgb(177, 117, 255)   \n",
      "Green Tracks              rgb(67, 177, 75)  rgb(230, 215, 213)   \n",
      "Way up North               rgb(30, 61, 88)    rgb(5, 125, 205)   \n",
      "Sea of Serenity           rgb(5, 157, 192)  rgb(106, 242, 240)   \n",
      "Melted Ice Cream        rgb(246, 200, 204)  rgb(235, 245, 247)   \n",
      "Watermelon and Stripes    rgb(29, 116, 27)   rgb(136, 202, 94)   \n",
      "Crystal Feline           rgb(82, 152, 193)    rgb(18, 49, 117)   \n",
      "Northern Lights         rgb(234, 234, 224)    rgb(28, 70, 112)   \n",
      "Rosy Dew                rgb(249, 241, 240)  rgb(250, 220, 217)   \n",
      "Butterfly Kisses           rgb(160, 47, 0)  rgb(159, 199, 170)   \n",
      "Blushing Landscape      rgb(255, 136, 130)     rgb(84, 56, 85)   \n",
      "Pale Blossom            rgb(225, 226, 231)  rgb(252, 192, 197)   \n",
      "Strawberry Froth          rgb(228, 61, 64)  rgb(243, 121, 112)   \n",
      "Center of Life            rgb(228, 70, 80)   rgb(235, 99, 160)   \n",
      "Sweet Orchid              rgb(110, 53, 98)    rgb(209, 3, 209)   \n",
      "Thirst Quencher           rgb(254, 222, 0)  rgb(180, 248, 200)   \n",
      "\n",
      "                                      RGB3                RGB4  \n",
      "Up Shore                rgb(140, 117, 106)  rgb(222, 226, 236)  \n",
      "Thwarted Summer Shower   rgb(54, 238, 224)  rgb(188, 236, 224)  \n",
      "Luscious Lemonade       rgb(164, 232, 224)  rgb(248, 234, 140)  \n",
      "Rosettes and Cream      rgb(250, 232, 224)  rgb(239, 124, 142)  \n",
      "Berry Blues              rgb(255, 39, 104)    rgb(5, 224, 233)  \n",
      "Mermaid Lagoon             rgb(12, 45, 72)    rgb(20, 93, 160)  \n",
      "Emerald Entrance           rgb(18, 38, 32)   rgb(214, 173, 96)  \n",
      "Healthy Leaves           rgb(129, 182, 34)     rgb(61, 85, 12)  \n",
      "Room for Comfort        rgb(185, 183, 189)  rgb(231, 210, 204)  \n",
      "Wild Orchid             rgb(222, 186, 214)      rgb(0, 84, 55)  \n",
      "Diaphanous Jellyfish     rgb(44, 238, 240)  rgb(180, 245, 240)  \n",
      "Window Tide              rgb(88, 133, 175)   rgb(65, 114, 159)  \n",
      "Berry Jar               rgb(127, 229, 240)  rgb(200, 244, 249)  \n",
      "Petal Party              rgb(212, 55, 144)  rgb(242, 197, 224)  \n",
      "Pasture of Dreams       rgb(193, 151, 210)  rgb(211, 177, 194)  \n",
      "Retro Punch              rgb(248, 210, 16)   rgb(47, 243, 224)  \n",
      "Bamboo Beach            rgb(254, 176, 106)  rgb(251, 246, 243)  \n",
      "In the Blue              rgb(46, 181, 224)  rgb(196, 219, 224)  \n",
      "Foil-covered Sneakers   rgb(233, 234, 236)  rgb(144, 173, 198)  \n",
      "Mellow Barnyard         rgb(248, 239, 228)  rgb(230, 194, 191)  \n",
      "Athleisure Style           rgb(23, 24, 16)    rgb(7, 218, 192)  \n",
      "Soft Focus Forest        rgb(43, 124, 133)    rgb(23, 88, 115)  \n",
      "Salmon Sushi            rgb(255, 163, 132)  rgb(239, 231, 188)  \n",
      "Icy Gradient            rgb(200, 244, 249)   rgb(60, 172, 174)  \n",
      "Pomegranate on Print       rgb(171, 5, 82)       rgb(7, 4, 10)  \n",
      "Green Tracks            rgb(158, 111, 109)     rgb(30, 49, 72)  \n",
      "Way up North             rgb(67, 176, 241)  rgb(232, 238, 241)  \n",
      "Sea of Serenity           rgb(4, 212, 240)    rgb(4, 236, 240)  \n",
      "Melted Ice Cream         rgb(193, 91, 120)   rgb(91, 176, 186)  \n",
      "Watermelon and Stripes  rgb(241, 192, 185)  rgb(210, 251, 164)  \n",
      "Crystal Feline          rgb(192, 194, 201)   rgb(99, 116, 122)  \n",
      "Northern Lights          rgb(39, 138, 176)   rgb(29, 198, 144)  \n",
      "Rosy Dew                rgb(248, 175, 166)  rgb(247, 148, 137)  \n",
      "Butterfly Kisses          rgb(96, 46, 158)  rgb(180, 100, 163)  \n",
      "Blushing Landscape      rgb(232, 141, 114)  rgb(255, 163, 132)  \n",
      "Pale Blossom              rgb(191, 76, 65)     rgb(152, 4, 45)  \n",
      "Strawberry Froth         rgb(248, 92, 112)  rgb(250, 190, 192)  \n",
      "Center of Life           rgb(251, 209, 96)  rgb(248, 168, 197)  \n",
      "Sweet Orchid             rgb(109, 131, 67)   rgb(163, 193, 74)  \n",
      "Thirst Quencher         rgb(106, 184, 238)  rgb(168, 217, 248)  \n"
     ]
    },
    {
     "name": "stderr",
     "output_type": "stream",
     "text": [
      "/Users/jing/anaconda3/envs/insight/lib/python3.7/site-packages/ipykernel_launcher.py:17: FutureWarning: A future version of pandas will perform index alignment when `others` is a Series/Index/DataFrame (or a list-like containing one). To disable alignment (the behavior before v.0.23) and silence this warning, use `.values` on any Series/Index/DataFrame in `others`. To enable alignment and silence this warning, pass `join='left'|'outer'|'inner'|'right'`. The future default will be `join='left'`.\n"
     ]
    }
   ],
   "source": [
    "# reshape the titles and color lists into a single pd.dataframe with each row representing a palette\n",
    "import pandas as pd\n",
    "import numpy as np\n",
    "\n",
    "# clean up color_RGB list from 'background-color: rgb(185, 183, 189);' to 'rgb(185, 183, 189)'\n",
    "CleanRGB=[]\n",
    "for RGB in color_RGB:\n",
    "    CleanRGB_1st = RGB.replace(\"background-color: \",\"\")\n",
    "    CleanRGB_2nd = CleanRGB_1st.replace(\";\",\"\")\n",
    "    CleanRGB.append(CleanRGB_2nd)\n",
    "\n",
    "# reshape RGB list to 40 by 4 np 2d arrary\n",
    "np.RGB = np.reshape(np.array(CleanRGB),(len(titles),4))\n",
    "\n",
    "# create columns names as RGB1-4\n",
    "c1 = pd.Series(['RGB']).repeat(4)\n",
    "c2 = pd.Series(range(1,5)).apply(str)\n",
    "colname = c1.str.cat(c2)\n",
    "\n",
    "pd.palette = pd.DataFrame(np.RGB, columns = colname)\n",
    "pd.palette.index = titles\n",
    "print(pd.palette)\n",
    "\n",
    "# export data frame into a csv file under working direction dir\n",
    "export_csv = pd.palette.to_csv (os.path.join(dir,r'page1_RGB_060919.csv'), index = True, header=True)"
   ]
  },
  {
   "cell_type": "code",
   "execution_count": 113,
   "metadata": {},
   "outputs": [],
   "source": [
    "\n"
   ]
  },
  {
   "cell_type": "code",
   "execution_count": null,
   "metadata": {},
   "outputs": [],
   "source": []
  },
  {
   "cell_type": "code",
   "execution_count": null,
   "metadata": {},
   "outputs": [],
   "source": []
  }
 ],
 "metadata": {
  "kernelspec": {
   "display_name": "Python 3",
   "language": "python",
   "name": "python3"
  },
  "language_info": {
   "codemirror_mode": {
    "name": "ipython",
    "version": 3
   },
   "file_extension": ".py",
   "mimetype": "text/x-python",
   "name": "python",
   "nbconvert_exporter": "python",
   "pygments_lexer": "ipython3",
   "version": "3.7.3"
  }
 },
 "nbformat": 4,
 "nbformat_minor": 2
}
