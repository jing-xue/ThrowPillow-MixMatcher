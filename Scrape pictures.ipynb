{
 "cells": [
  {
   "cell_type": "code",
   "execution_count": 65,
   "metadata": {},
   "outputs": [],
   "source": [
    "# I aim to scrape catalog pictures of throw pillows from Overstock\n",
    "# filters: \"solid color\", \"Square\" or \"rectangular\", \" Accent\" pillows\n",
    "# url is \"https://www.overstock.com/Home-Garden/Throw-Pillows/Solid-Color,Rectangle~Square,Accent,\n",
    "# /pattern,pillow-shape,pillow-type,/2011/subcat.html?page=2\"  \n",
    "# where page ranges between 1 to 32\n",
    "# credit to \"https://medium.com/the-andela-way/introduction-to-web-scraping-using-selenium-7ec377a8cf72\"\n",
    "# credit to \"https://intoli.com/blog/running-selenium-with-headless-chrome/\"\n",
    "from selenium import webdriver\n",
    "from selenium.webdriver.common.by import By\n",
    "from selenium.webdriver.support.ui import WebDriverWait\n",
    "from selenium.webdriver.support import expected_conditions as EC\n",
    "from selenium.common.exceptions import TimeoutException\n",
    "import time\n",
    "import os\n",
    "import pandas as pd"
   ]
  },
  {
   "cell_type": "code",
   "execution_count": 96,
   "metadata": {},
   "outputs": [],
   "source": [
    "# Launch your browser\n",
    "options = webdriver.ChromeOptions()\n",
    "\n",
    "# Initialize the driver\n",
    "driver = webdriver.Chrome(options = options)\n",
    "\n",
    "# experiment with page 1\n",
    "page = 1\n",
    "url_prefix = 'https://www.overstock.com/Home-Garden/Throw-Pillows/Solid-Color,Rectangle~Square,Accent,/pattern,pillow-shape,pillow-type,/2011/subcat.html?page='\n",
    "url = url_prefix + str(page)\n",
    "driver.get(url)\n",
    "\n",
    "# wait up to 60 sec for the elements to become available\n",
    "driver.implicitly_wait(60)"
   ]
  },
  {
   "cell_type": "code",
   "execution_count": 97,
   "metadata": {},
   "outputs": [],
   "source": [
    "height = driver.execute_script(\"return document.documentElement.scrollHeight\")\n",
    "scrolls = int(height/1080)\n",
    "\n",
    "# scroll window step by step\n",
    "for i in range(scrolls):\n",
    "    driver.execute_script(\"window.scrollBy(0, 1080/3*i)\") \n",
    "    time.sleep(1)\n",
    " "
   ]
  },
  {
   "cell_type": "code",
   "execution_count": 98,
   "metadata": {},
   "outputs": [
    {
     "name": "stdout",
     "output_type": "stream",
     "text": [
      "image urls:\n",
      "['https://ak1.ostkcdn.com/images/products/9412909/L16600539.jpg?imwidth=480&impolicy=medium', 'https://ak1.ostkcdn.com/images/products/13218518/L19936654.jpg?imwidth=480&impolicy=medium', 'https://ak1.ostkcdn.com/images/products/8816874/L16050950.jpg?imwidth=480&impolicy=medium', 'https://ak1.ostkcdn.com/images/products/8817153/L16051170.jpg?imwidth=480&impolicy=medium', 'https://ak1.ostkcdn.com/images/products/10694023/L17755976.jpg?imwidth=480&impolicy=medium', 'https://ak1.ostkcdn.com/images/products/11381991/L18350445.jpg?imwidth=480&impolicy=medium', 'https://ak1.ostkcdn.com/images/products/6624571/L14191181.jpg?imwidth=480&impolicy=medium', 'https://ak1.ostkcdn.com/images/products/25776704/L31070776.jpg?imwidth=480&impolicy=medium', 'https://ak1.ostkcdn.com/images/products/9937110/L17092429.jpg?imwidth=480&impolicy=medium', 'https://ak1.ostkcdn.com/images/products/12038041/L18909705.jpg?imwidth=480&impolicy=medium', 'https://ak1.ostkcdn.com/images/products/10438315/L17535380.jpg?imwidth=480&impolicy=medium', 'https://ak1.ostkcdn.com/images/products/8595240/L15865931.jpg?imwidth=480&impolicy=medium', 'https://ak1.ostkcdn.com/images/products/10356598/L17464870.jpg?imwidth=480&impolicy=medium', 'https://ak1.ostkcdn.com/images/products/16760811/L23070236.jpg?imwidth=480&impolicy=medium', 'https://ak1.ostkcdn.com/images/products/16107112/L22489208.jpg?imwidth=480&impolicy=medium', 'https://ak1.ostkcdn.com/images/products/8557470/L15834599.jpg?imwidth=480&impolicy=medium', 'https://ak1.ostkcdn.com/images/products/22828402/L28411808.jpg?imwidth=480&impolicy=medium', 'https://ak1.ostkcdn.com/images/products/9943661/L17098494.jpg?imwidth=480&impolicy=medium', 'https://ak1.ostkcdn.com/images/products/13784686/L20436120.jpg?imwidth=480&impolicy=medium', 'https://ak1.ostkcdn.com/images/products/19879905/L25806930.jpg?imwidth=480&impolicy=medium', 'https://ak1.ostkcdn.com/images/products/9511863/L16690708.jpg?imwidth=480&impolicy=medium', 'https://ak1.ostkcdn.com/images/products/8584394/L15856990.jpg?imwidth=480&impolicy=medium', 'https://ak1.ostkcdn.com/images/products/21028811/L26817827.jpg?imwidth=480&impolicy=medium', 'https://ak1.ostkcdn.com/images/products/21529679/L27259835.jpg?imwidth=480&impolicy=medium', 'https://ak1.ostkcdn.com/images/products/17909469/L24092090.jpg?imwidth=480&impolicy=medium', 'https://ak1.ostkcdn.com/images/products/26394979/L31673186.jpg?imwidth=480&impolicy=medium', 'https://ak1.ostkcdn.com/images/products/5779365/L13504103.jpg?imwidth=480&impolicy=medium', 'https://ak1.ostkcdn.com/images/products/26974135/L32194948.jpg?imwidth=480&impolicy=medium', 'https://ak1.ostkcdn.com/images/products/22537993/L28157990.jpg?imwidth=480&impolicy=medium', 'https://ak1.ostkcdn.com/images/products/8306086/L15622547.jpg?imwidth=480&impolicy=medium', 'https://ak1.ostkcdn.com/images/products/6624539/L14191183.jpg?imwidth=480&impolicy=medium', 'https://ak1.ostkcdn.com/images/products/22538234/L28158221.jpg?imwidth=480&impolicy=medium', 'https://ak1.ostkcdn.com/images/products/20010513/L25921933.jpg?imwidth=480&impolicy=medium', 'https://ak1.ostkcdn.com/images/products/6085350/L13755806.jpg?imwidth=480&impolicy=medium', 'https://ak1.ostkcdn.com/images/products/8557450/L15834575.jpg?imwidth=480&impolicy=medium', 'https://ak1.ostkcdn.com/images/products/6624574/L14191182.jpg?imwidth=480&impolicy=medium', 'https://ak1.ostkcdn.com/images/products/22841498/L28422869.jpg?imwidth=480&impolicy=medium', 'https://ak1.ostkcdn.com/images/products/17615556/L23831723.jpg?imwidth=480&impolicy=medium', 'https://ak1.ostkcdn.com/images/products/8698422/L15950060.jpg?imwidth=480&impolicy=medium', 'https://ak1.ostkcdn.com/images/products/15077003/L21567071.jpg?imwidth=480&impolicy=medium', 'https://ak1.ostkcdn.com/images/products/14986859/L21487742.jpg?imwidth=480&impolicy=medium', 'https://ak1.ostkcdn.com/images/products/10071922/L17215880.jpg?imwidth=480&impolicy=medium', 'https://ak1.ostkcdn.com/images/products/5643393/L13396315.jpg?imwidth=480&impolicy=medium', 'https://ak1.ostkcdn.com/images/products/12273665/L19112598.jpg?imwidth=480&impolicy=medium', 'https://ak1.ostkcdn.com/images/products/20301061/L26178831.jpg?imwidth=480&impolicy=medium', 'https://ak1.ostkcdn.com/images/products/20248183/L26132546.jpg?imwidth=480&impolicy=medium', 'https://ak1.ostkcdn.com/images/products/20010518/L25921936.jpg?imwidth=480&impolicy=medium', 'https://ak1.ostkcdn.com/images/products/25581352/L30895225.jpg?imwidth=480&impolicy=medium', 'https://ak1.ostkcdn.com/images/products/5643375/L13396308.jpg?imwidth=480&impolicy=medium', 'https://ak1.ostkcdn.com/images/products/12731301/L19510036.jpg?imwidth=480&impolicy=medium', 'https://ak1.ostkcdn.com/images/products/10356558/L17464852.jpg?imwidth=480&impolicy=medium', 'https://ak1.ostkcdn.com/images/products/10508468/L17588061.jpg?imwidth=480&impolicy=medium', 'https://ak1.ostkcdn.com/images/products/12038006/L18909707.jpg?imwidth=480&impolicy=medium', 'https://ak1.ostkcdn.com/images/products/22719644/L28318229.jpg?imwidth=480&impolicy=medium', 'https://ak1.ostkcdn.com/images/products/11673523/L18601528.jpg?imwidth=480&impolicy=medium', 'https://ak1.ostkcdn.com/images/products/22670958/L28275813.jpg?imwidth=480&impolicy=medium', 'https://ak1.ostkcdn.com/images/products/2442825/L10672044.jpg?imwidth=480&impolicy=medium', 'https://ak1.ostkcdn.com/images/products/13578961/L20254177.jpg?imwidth=480&impolicy=medium', 'https://ak1.ostkcdn.com/images/products/13573358/L20247994.jpg?imwidth=480&impolicy=medium', 'https://ak1.ostkcdn.com/images/products/8698434/L15950059.jpg?imwidth=480&impolicy=medium'] \n",
      "\n",
      "60\n"
     ]
    }
   ],
   "source": [
    "# find_elements_by_xpath returns an array of selenium objects\n",
    "img_url_element=driver.find_elements_by_xpath(\"//img[@class='productCardFrontImage']\")\n",
    "\n",
    "# use list comprehension to get the actual palette titles and not the selenium objects\n",
    "img_url = [x.get_attribute('src') for x in img_url_element]\n",
    "\n",
    "# print out all the titles\n",
    "print ('image urls:')\n",
    "print ( img_url, '\\n')\n",
    "print (len(img_url))"
   ]
  },
  {
   "cell_type": "code",
   "execution_count": 99,
   "metadata": {},
   "outputs": [
    {
     "name": "stdout",
     "output_type": "stream",
     "text": [
      "wishlist counts:\n",
      "['7.8K', '3.4K', '687', '774', '2.7K', '1.4K', '1K', '96', '173', '3K', '1.3K', '1.1K', '875', '2.3K', '552', '891', '61', '306', '249', '55', '117', '733', '45', '157', '126', '51', '1.1K', '43', '75', '283', '2.5K', '41', '360', '463', '554', '1.6K', '37', '577', '182', '141', '594', '580', '757', '456', '74', '81', '500', '51', '428', '617', '427', '1K', '1.7K', '172', '1.2K', '254', '479', '1.5K', '237', '203'] \n",
      "\n",
      "60\n"
     ]
    }
   ],
   "source": [
    "# find_elements_by_xpath returns an array of selenium objects\n",
    "wishlist_element=driver.find_elements_by_xpath(\"//div[@class='wishlistCount']\")\n",
    "\n",
    "# use list comprehension to get the actual palette titles and not the selenium objects\n",
    "wishlist = [x.text for x in wishlist_element]\n",
    "\n",
    "# print out all the wishlist counts\n",
    "print ('wishlist counts:')\n",
    "print ( wishlist, '\\n')\n",
    "print (len(wishlist))"
   ]
  },
  {
   "cell_type": "code",
   "execution_count": 100,
   "metadata": {},
   "outputs": [],
   "source": [
    "def OS_scraping(PageNumber) :\n",
    "    \n",
    "    # Launch your browser\n",
    "    options = webdriver.ChromeOptions()\n",
    "    \n",
    "    # Initialize the driver and open the url\n",
    "    driver = webdriver.Chrome(options = options)\n",
    "    \n",
    "    url_prefix = 'https://www.overstock.com/Home-Garden/Throw-Pillows/Solid-Color,Rectangle~Square,Accent,/pattern,pillow-shape,pillow-type,/2011/subcat.html?page='\n",
    "    url = url_prefix + str(PageNumber)\n",
    "    driver.get(url)\n",
    "\n",
    "    # wait up to 60 sec for the elements to become available\n",
    "    driver.implicitly_wait(60)   \n",
    "    # prevent loading images\n",
    "    # prefs = {'profile.managed_default_content_settings.images':2}\n",
    "    # options.add_experimental_option(\"prefs\", prefs)\n",
    "    \n",
    "    # scroll window step by step\n",
    "    height = driver.execute_script(\"return document.documentElement.scrollHeight\")\n",
    "    scrolls = int(height/1080)\n",
    "    for i in range(scrolls):\n",
    "        driver.execute_script(\"window.scrollBy(0, 1080/3*i)\") \n",
    "        time.sleep(2)\n",
    "\n",
    "    # find_elements_by_xpath returns an array of selenium objects\n",
    "    img_url_element=driver.find_elements_by_xpath(\"//img[@class='productCardFrontImage']\")\n",
    "\n",
    "    # use list comprehension to get the actual palette titles and not the selenium objects\n",
    "    img_url = [x.get_attribute('src') for x in img_url_element]\n",
    "    \n",
    "    # find_elements_by_xpath returns an array of selenium objects\n",
    "    wishlist_element=driver.find_elements_by_xpath(\"//div[@class='wishlistCount']\")\n",
    "\n",
    "    # use list comprehension to get the actual palette titles and not the selenium objects\n",
    "    wishlist = [x.text for x in wishlist_element]\n",
    "    \n",
    "    # close the window after a scratch \n",
    "    driver.close()\n",
    "    \n",
    "    zipped_list = list(zip(img_url,wishlist))\n",
    "    output = pd.DataFrame(zipped_list, columns = ['url','wishlist_count'])\n",
    "    \n",
    "    return output"
   ]
  },
  {
   "cell_type": "code",
   "execution_count": 101,
   "metadata": {},
   "outputs": [
    {
     "name": "stdout",
     "output_type": "stream",
     "text": [
      "                                                  url wishlist_count\n",
      "0   https://ak1.ostkcdn.com/images/products/941290...           7.8K\n",
      "1   https://ak1.ostkcdn.com/images/products/132185...           3.4K\n",
      "2   https://ak1.ostkcdn.com/images/products/881687...            687\n",
      "3   https://ak1.ostkcdn.com/images/products/881715...            774\n",
      "4   https://ak1.ostkcdn.com/images/products/106940...           2.7K\n",
      "5   https://ak1.ostkcdn.com/images/products/113819...           1.4K\n",
      "6   https://ak1.ostkcdn.com/images/products/662457...             1K\n",
      "7   https://ak1.ostkcdn.com/images/products/257767...             96\n",
      "8   https://ak1.ostkcdn.com/images/products/993711...            173\n",
      "9   https://ak1.ostkcdn.com/images/products/120380...             3K\n",
      "10  https://ak1.ostkcdn.com/images/products/104383...           1.3K\n",
      "11  https://ak1.ostkcdn.com/images/products/859524...           1.1K\n",
      "12  https://ak1.ostkcdn.com/images/products/103565...            875\n",
      "13  https://ak1.ostkcdn.com/images/products/167608...           2.3K\n",
      "14  https://ak1.ostkcdn.com/images/products/161071...            552\n",
      "15  https://ak1.ostkcdn.com/images/products/855747...            891\n",
      "16  https://ak1.ostkcdn.com/images/products/228284...             61\n",
      "17  https://ak1.ostkcdn.com/images/products/994366...            306\n",
      "18  https://ak1.ostkcdn.com/images/products/137846...            249\n",
      "19  https://ak1.ostkcdn.com/images/products/198799...             55\n",
      "20  https://ak1.ostkcdn.com/images/products/951186...            117\n",
      "21  https://ak1.ostkcdn.com/images/products/858439...            733\n",
      "22  https://ak1.ostkcdn.com/images/products/210288...             45\n",
      "23  https://ak1.ostkcdn.com/images/products/215296...            157\n",
      "24  https://ak1.ostkcdn.com/images/products/179094...            126\n",
      "25  https://ak1.ostkcdn.com/images/products/263949...             51\n",
      "26  https://ak1.ostkcdn.com/images/products/577936...           1.1K\n",
      "27  https://ak1.ostkcdn.com/images/products/269741...             43\n",
      "28  https://ak1.ostkcdn.com/images/products/225379...             75\n",
      "29  https://ak1.ostkcdn.com/images/products/830608...            283\n",
      "30  https://ak1.ostkcdn.com/images/products/662453...           2.5K\n",
      "31  https://ak1.ostkcdn.com/images/products/225382...             41\n",
      "32  https://ak1.ostkcdn.com/images/products/200105...            360\n",
      "33  https://ak1.ostkcdn.com/images/products/608535...            463\n",
      "34  https://ak1.ostkcdn.com/images/products/855745...            554\n",
      "35  https://ak1.ostkcdn.com/images/products/662457...           1.6K\n",
      "36  https://ak1.ostkcdn.com/images/products/228414...             37\n",
      "37  https://ak1.ostkcdn.com/images/products/176155...            577\n",
      "38  https://ak1.ostkcdn.com/images/products/869842...            182\n",
      "39  https://ak1.ostkcdn.com/images/products/150770...            141\n",
      "40  https://ak1.ostkcdn.com/images/products/149868...            594\n",
      "41  https://ak1.ostkcdn.com/images/products/100719...            580\n",
      "42  https://ak1.ostkcdn.com/images/products/564339...            757\n",
      "43  https://ak1.ostkcdn.com/images/products/122736...            456\n",
      "44  https://ak1.ostkcdn.com/images/products/203010...             74\n",
      "45  https://ak1.ostkcdn.com/images/products/202481...             81\n",
      "46  https://ak1.ostkcdn.com/images/products/200105...            500\n",
      "47  https://ak1.ostkcdn.com/images/products/255813...             51\n",
      "48  https://ak1.ostkcdn.com/images/products/564337...            428\n",
      "49  https://ak1.ostkcdn.com/images/products/127313...            617\n",
      "50  https://ak1.ostkcdn.com/images/products/103565...            427\n",
      "51  https://ak1.ostkcdn.com/images/products/105084...             1K\n",
      "52  https://ak1.ostkcdn.com/images/products/120380...           1.7K\n",
      "53  https://ak1.ostkcdn.com/images/products/227196...            172\n",
      "54  https://ak1.ostkcdn.com/images/products/116735...           1.2K\n",
      "55  https://ak1.ostkcdn.com/images/products/226709...            254\n",
      "56  https://ak1.ostkcdn.com/images/products/244282...            479\n",
      "57  https://ak1.ostkcdn.com/images/products/135789...           1.5K\n",
      "58  https://ak1.ostkcdn.com/images/products/135733...            237\n",
      "59  https://ak1.ostkcdn.com/images/products/869843...            203\n"
     ]
    }
   ],
   "source": [
    "# scrape through page 1-32\n",
    "# first, initiate data with page 1; lists taken from the trial run above\n",
    "zipped_list = list(zip(img_url,wishlist))\n",
    "pd_data = pd.DataFrame(zipped_list, columns = ['url','wishlist_count'])\n",
    "print(pd_data)"
   ]
  },
  {
   "cell_type": "code",
   "execution_count": 102,
   "metadata": {
    "scrolled": true
   },
   "outputs": [
    {
     "name": "stdout",
     "output_type": "stream",
     "text": [
      "(1426, 2)\n"
     ]
    }
   ],
   "source": [
    "for i in range (2,33):\n",
    "    pd_data = pd_data.append(OS_scraping(PageNumber=i))\n",
    "    time.sleep(5)\n",
    "print (pd_data.shape)\n",
    "\n",
    "dir = os.getcwd ()\n",
    "export_csv = pd_data.to_csv( os.path.join (dir, r'image_url_061119update2nd.csv'), index = True, header = True)"
   ]
  },
  {
   "cell_type": "markdown",
   "metadata": {},
   "source": [
    "Only 1426/1888 image urls are scraped. Further slow down the scrolling to let pages get fully loaded."
   ]
  }
 ],
 "metadata": {
  "kernelspec": {
   "display_name": "Python 3",
   "language": "python",
   "name": "python3"
  },
  "language_info": {
   "codemirror_mode": {
    "name": "ipython",
    "version": 3
   },
   "file_extension": ".py",
   "mimetype": "text/x-python",
   "name": "python",
   "nbconvert_exporter": "python",
   "pygments_lexer": "ipython3",
   "version": "3.7.3"
  }
 },
 "nbformat": 4,
 "nbformat_minor": 2
}
