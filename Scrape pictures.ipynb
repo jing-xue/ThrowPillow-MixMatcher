{
 "cells": [
  {
   "cell_type": "code",
   "execution_count": 105,
   "metadata": {},
   "outputs": [],
   "source": [
    "# I aim to scrape catalog pictures of throw pillows from Overstock\n",
    "# filters: \"solid color\", \"Square\" or \"rectangular\", \" Accent\" pillows\n",
    "# url is \"https://www.overstock.com/Home-Garden/Throw-Pillows/Solid-Color,Rectangle~Square,Accent,\n",
    "# /pattern,pillow-shape,pillow-type,/2011/subcat.html?page=2\"  \n",
    "# where page ranges between 1 to 32\n",
    "# credit to \"https://medium.com/the-andela-way/introduction-to-web-scraping-using-selenium-7ec377a8cf72\"\n",
    "# credit to \"https://intoli.com/blog/running-selenium-with-headless-chrome/\"\n",
    "from selenium import webdriver\n",
    "from selenium.webdriver.common.by import By\n",
    "from selenium.webdriver.support.ui import WebDriverWait\n",
    "from selenium.webdriver.support import expected_conditions as EC\n",
    "from selenium.common.exceptions import TimeoutException\n",
    "import time\n",
    "import os\n",
    "import pandas as pd"
   ]
  },
  {
   "cell_type": "code",
   "execution_count": 106,
   "metadata": {},
   "outputs": [],
   "source": [
    "# Launch your browser\n",
    "options = webdriver.ChromeOptions()\n",
    "\n",
    "# Initialize the driver\n",
    "driver = webdriver.Chrome(options = options)\n",
    "\n",
    "# experiment with page 1\n",
    "page = 1\n",
    "url_prefix = 'https://www.overstock.com/Home-Garden/Throw-Pillows/Solid-Color,Rectangle~Square,Accent,/pattern,pillow-shape,pillow-type,/2011/subcat.html?page='\n",
    "url = url_prefix + str(page)\n",
    "driver.get(url)\n",
    "\n",
    "# wait up to 60 sec for the elements to become available\n",
    "driver.implicitly_wait(60)"
   ]
  },
  {
   "cell_type": "code",
   "execution_count": 108,
   "metadata": {},
   "outputs": [],
   "source": [
    "height = driver.execute_script(\"return document.documentElement.scrollHeight\")\n",
    "scrolls = int(height/1080)\n",
    "\n",
    "# scroll window step by step\n",
    "for i in range(scrolls+3):\n",
    "    driver.execute_script(\"window.scrollBy(0, 1080/4*i)\") \n",
    "    time.sleep(2)\n",
    " "
   ]
  },
  {
   "cell_type": "code",
   "execution_count": 98,
   "metadata": {},
   "outputs": [
    {
     "name": "stdout",
     "output_type": "stream",
     "text": [
      "image urls:\n",
      "['https://ak1.ostkcdn.com/images/products/9412909/L16600539.jpg?imwidth=480&impolicy=medium', 'https://ak1.ostkcdn.com/images/products/13218518/L19936654.jpg?imwidth=480&impolicy=medium', 'https://ak1.ostkcdn.com/images/products/8816874/L16050950.jpg?imwidth=480&impolicy=medium', 'https://ak1.ostkcdn.com/images/products/8817153/L16051170.jpg?imwidth=480&impolicy=medium', 'https://ak1.ostkcdn.com/images/products/10694023/L17755976.jpg?imwidth=480&impolicy=medium', 'https://ak1.ostkcdn.com/images/products/11381991/L18350445.jpg?imwidth=480&impolicy=medium', 'https://ak1.ostkcdn.com/images/products/6624571/L14191181.jpg?imwidth=480&impolicy=medium', 'https://ak1.ostkcdn.com/images/products/25776704/L31070776.jpg?imwidth=480&impolicy=medium', 'https://ak1.ostkcdn.com/images/products/9937110/L17092429.jpg?imwidth=480&impolicy=medium', 'https://ak1.ostkcdn.com/images/products/12038041/L18909705.jpg?imwidth=480&impolicy=medium', 'https://ak1.ostkcdn.com/images/products/10438315/L17535380.jpg?imwidth=480&impolicy=medium', 'https://ak1.ostkcdn.com/images/products/8595240/L15865931.jpg?imwidth=480&impolicy=medium', 'https://ak1.ostkcdn.com/images/products/10356598/L17464870.jpg?imwidth=480&impolicy=medium', 'https://ak1.ostkcdn.com/images/products/16760811/L23070236.jpg?imwidth=480&impolicy=medium', 'https://ak1.ostkcdn.com/images/products/16107112/L22489208.jpg?imwidth=480&impolicy=medium', 'https://ak1.ostkcdn.com/images/products/8557470/L15834599.jpg?imwidth=480&impolicy=medium', 'https://ak1.ostkcdn.com/images/products/22828402/L28411808.jpg?imwidth=480&impolicy=medium', 'https://ak1.ostkcdn.com/images/products/9943661/L17098494.jpg?imwidth=480&impolicy=medium', 'https://ak1.ostkcdn.com/images/products/13784686/L20436120.jpg?imwidth=480&impolicy=medium', 'https://ak1.ostkcdn.com/images/products/19879905/L25806930.jpg?imwidth=480&impolicy=medium', 'https://ak1.ostkcdn.com/images/products/9511863/L16690708.jpg?imwidth=480&impolicy=medium', 'https://ak1.ostkcdn.com/images/products/8584394/L15856990.jpg?imwidth=480&impolicy=medium', 'https://ak1.ostkcdn.com/images/products/21028811/L26817827.jpg?imwidth=480&impolicy=medium', 'https://ak1.ostkcdn.com/images/products/21529679/L27259835.jpg?imwidth=480&impolicy=medium', 'https://ak1.ostkcdn.com/images/products/17909469/L24092090.jpg?imwidth=480&impolicy=medium', 'https://ak1.ostkcdn.com/images/products/26394979/L31673186.jpg?imwidth=480&impolicy=medium', 'https://ak1.ostkcdn.com/images/products/5779365/L13504103.jpg?imwidth=480&impolicy=medium', 'https://ak1.ostkcdn.com/images/products/26974135/L32194948.jpg?imwidth=480&impolicy=medium', 'https://ak1.ostkcdn.com/images/products/22537993/L28157990.jpg?imwidth=480&impolicy=medium', 'https://ak1.ostkcdn.com/images/products/8306086/L15622547.jpg?imwidth=480&impolicy=medium', 'https://ak1.ostkcdn.com/images/products/6624539/L14191183.jpg?imwidth=480&impolicy=medium', 'https://ak1.ostkcdn.com/images/products/22538234/L28158221.jpg?imwidth=480&impolicy=medium', 'https://ak1.ostkcdn.com/images/products/20010513/L25921933.jpg?imwidth=480&impolicy=medium', 'https://ak1.ostkcdn.com/images/products/6085350/L13755806.jpg?imwidth=480&impolicy=medium', 'https://ak1.ostkcdn.com/images/products/8557450/L15834575.jpg?imwidth=480&impolicy=medium', 'https://ak1.ostkcdn.com/images/products/6624574/L14191182.jpg?imwidth=480&impolicy=medium', 'https://ak1.ostkcdn.com/images/products/22841498/L28422869.jpg?imwidth=480&impolicy=medium', 'https://ak1.ostkcdn.com/images/products/17615556/L23831723.jpg?imwidth=480&impolicy=medium', 'https://ak1.ostkcdn.com/images/products/8698422/L15950060.jpg?imwidth=480&impolicy=medium', 'https://ak1.ostkcdn.com/images/products/15077003/L21567071.jpg?imwidth=480&impolicy=medium', 'https://ak1.ostkcdn.com/images/products/14986859/L21487742.jpg?imwidth=480&impolicy=medium', 'https://ak1.ostkcdn.com/images/products/10071922/L17215880.jpg?imwidth=480&impolicy=medium', 'https://ak1.ostkcdn.com/images/products/5643393/L13396315.jpg?imwidth=480&impolicy=medium', 'https://ak1.ostkcdn.com/images/products/12273665/L19112598.jpg?imwidth=480&impolicy=medium', 'https://ak1.ostkcdn.com/images/products/20301061/L26178831.jpg?imwidth=480&impolicy=medium', 'https://ak1.ostkcdn.com/images/products/20248183/L26132546.jpg?imwidth=480&impolicy=medium', 'https://ak1.ostkcdn.com/images/products/20010518/L25921936.jpg?imwidth=480&impolicy=medium', 'https://ak1.ostkcdn.com/images/products/25581352/L30895225.jpg?imwidth=480&impolicy=medium', 'https://ak1.ostkcdn.com/images/products/5643375/L13396308.jpg?imwidth=480&impolicy=medium', 'https://ak1.ostkcdn.com/images/products/12731301/L19510036.jpg?imwidth=480&impolicy=medium', 'https://ak1.ostkcdn.com/images/products/10356558/L17464852.jpg?imwidth=480&impolicy=medium', 'https://ak1.ostkcdn.com/images/products/10508468/L17588061.jpg?imwidth=480&impolicy=medium', 'https://ak1.ostkcdn.com/images/products/12038006/L18909707.jpg?imwidth=480&impolicy=medium', 'https://ak1.ostkcdn.com/images/products/22719644/L28318229.jpg?imwidth=480&impolicy=medium', 'https://ak1.ostkcdn.com/images/products/11673523/L18601528.jpg?imwidth=480&impolicy=medium', 'https://ak1.ostkcdn.com/images/products/22670958/L28275813.jpg?imwidth=480&impolicy=medium', 'https://ak1.ostkcdn.com/images/products/2442825/L10672044.jpg?imwidth=480&impolicy=medium', 'https://ak1.ostkcdn.com/images/products/13578961/L20254177.jpg?imwidth=480&impolicy=medium', 'https://ak1.ostkcdn.com/images/products/13573358/L20247994.jpg?imwidth=480&impolicy=medium', 'https://ak1.ostkcdn.com/images/products/8698434/L15950059.jpg?imwidth=480&impolicy=medium'] \n",
      "\n",
      "60\n"
     ]
    }
   ],
   "source": [
    "# find_elements_by_xpath returns an array of selenium objects\n",
    "img_url_element=driver.find_elements_by_xpath(\"//img[@class='productCardFrontImage']\")\n",
    "\n",
    "# use list comprehension to get the actual palette titles and not the selenium objects\n",
    "img_url = [x.get_attribute('src') for x in img_url_element]\n",
    "\n",
    "# print out all the titles\n",
    "print ('image urls:')\n",
    "print ( img_url, '\\n')\n",
    "print (len(img_url))"
   ]
  },
  {
   "cell_type": "code",
   "execution_count": 99,
   "metadata": {},
   "outputs": [
    {
     "name": "stdout",
     "output_type": "stream",
     "text": [
      "wishlist counts:\n",
      "['7.8K', '3.4K', '687', '774', '2.7K', '1.4K', '1K', '96', '173', '3K', '1.3K', '1.1K', '875', '2.3K', '552', '891', '61', '306', '249', '55', '117', '733', '45', '157', '126', '51', '1.1K', '43', '75', '283', '2.5K', '41', '360', '463', '554', '1.6K', '37', '577', '182', '141', '594', '580', '757', '456', '74', '81', '500', '51', '428', '617', '427', '1K', '1.7K', '172', '1.2K', '254', '479', '1.5K', '237', '203'] \n",
      "\n",
      "60\n"
     ]
    }
   ],
   "source": [
    "# find_elements_by_xpath returns an array of selenium objects\n",
    "wishlist_element=driver.find_elements_by_xpath(\"//div[@class='wishlistCount']\")\n",
    "\n",
    "# use list comprehension to get the actual palette titles and not the selenium objects\n",
    "wishlist = [x.text for x in wishlist_element]\n",
    "\n",
    "# print out all the wishlist counts\n",
    "print ('wishlist counts:')\n",
    "print ( wishlist, '\\n')\n",
    "print (len(wishlist))"
   ]
  },
  {
   "cell_type": "code",
   "execution_count": 158,
   "metadata": {},
   "outputs": [],
   "source": [
    "def OS_scraping(PageNumber) :\n",
    "    \n",
    "    # Launch your browser\n",
    "    options = webdriver.ChromeOptions()\n",
    "    \n",
    "    # Initialize the driver and open the url\n",
    "    driver = webdriver.Chrome(options = options)\n",
    "    \n",
    "    url_prefix = 'https://www.overstock.com/Home-Garden/Throw-Pillows/Solid-Color,Rectangle~Square,Accent,/pattern,pillow-shape,pillow-type,/2011/subcat.html?page='\n",
    "    url = url_prefix + str(PageNumber)\n",
    "    driver.get(url)\n",
    "\n",
    "    # wait up to 60 sec for the elements to become available\n",
    "    driver.implicitly_wait(60)   \n",
    "    # prevent loading images\n",
    "    # prefs = {'profile.managed_default_content_settings.images':2}\n",
    "    # options.add_experimental_option(\"prefs\", prefs)\n",
    "    \n",
    "    # scroll window step by step\n",
    "    height = driver.execute_script(\"return document.documentElement.scrollHeight\")\n",
    "    scrolls = int(height/1080)\n",
    "    for i in range(scrolls+3):\n",
    "        driver.execute_script(\"window.scrollBy(0, 1080/5*i)\") \n",
    "        time.sleep(0.5)\n",
    "    \n",
    "    time.sleep(1)\n",
    "    # find_elements_by_xpath returns an array of selenium objects\n",
    "    img_url_element=driver.find_elements_by_xpath(\"//img[@class='productCardFrontImage']\")\n",
    "\n",
    "    # use list comprehension to get the actual palette titles and not the selenium objects\n",
    "    img_url = [x.get_attribute('src') for x in img_url_element]\n",
    "    \n",
    "    # find_elements_by_xpath returns an array of selenium objects\n",
    "    # wishlist_element=driver.find_elements_by_xpath(\"//div[@class='wishlistCount']\")\n",
    "\n",
    "    # use list comprehension to get the actual palette titles and not the selenium objects\n",
    "    # wishlist = [x.text for x in wishlist_element]\n",
    "    \n",
    "    # close the window after a scratch \n",
    "    driver.close()\n",
    "    \n",
    "    Page = pd.Series(['Page_'+ str(PageNumber) + '_']).repeat(len(img_url))\n",
    "    Seq = pd.Series(range(1,len(img_url)+1)).apply(str)\n",
    "    ind = Page.str.cat(Seq.values)\n",
    "    \n",
    "    zipped_list = list(zip(img_url,ind))\n",
    "    output = pd.DataFrame(zipped_list, columns = ['url','index'])\n",
    "    \n",
    "    return output"
   ]
  },
  {
   "cell_type": "code",
   "execution_count": 159,
   "metadata": {},
   "outputs": [
    {
     "name": "stdout",
     "output_type": "stream",
     "text": [
      "(60, 2)\n"
     ]
    }
   ],
   "source": [
    "# scrape through page 1-32\n",
    "# first, initiate data with page 1; lists taken from the trial run above\n",
    "pd_data = OS_scraping(PageNumber = 1)\n",
    "print (pd_data.shape)"
   ]
  },
  {
   "cell_type": "code",
   "execution_count": 160,
   "metadata": {},
   "outputs": [
    {
     "name": "stdout",
     "output_type": "stream",
     "text": [
      "(1879, 2)\n"
     ]
    }
   ],
   "source": [
    "for i in range (2,33):\n",
    "    pd_data = pd_data.append(OS_scraping(PageNumber=i))\n",
    "    time.sleep(5)\n",
    "print (pd_data.shape)"
   ]
  },
  {
   "cell_type": "code",
   "execution_count": 161,
   "metadata": {
    "scrolled": true
   },
   "outputs": [],
   "source": [
    "dir = os.getcwd ()\n",
    "export_csv = pd_data.to_csv( os.path.join (dir, r'image_url_061119update6th.csv'), index = True, header = True)"
   ]
  },
  {
   "cell_type": "code",
   "execution_count": 162,
   "metadata": {},
   "outputs": [
    {
     "name": "stdout",
     "output_type": "stream",
     "text": [
      "(1879, 2)\n"
     ]
    }
   ],
   "source": [
    "# detected duplicate rows and remove from pd_data\n",
    "pd_data_unique = pd_data.drop_duplicates()\n",
    "print (pd_data_unique.shape)"
   ]
  },
  {
   "cell_type": "code",
   "execution_count": 163,
   "metadata": {},
   "outputs": [
    {
     "data": {
      "image/png": "[encoded data removed]",
      "text/plain": [
       "<Figure size 432x288 with 1 Axes>"
      ]
     },
     "metadata": {
      "needs_background": "light"
     },
     "output_type": "display_data"
    }
   ],
   "source": [
    "import matplotlib.pyplot as plt\n",
    "plt.hist(pd_data.index.values, bins=60)\n",
    "plt.ylabel('Num of Pages')\n",
    "plt.xlabel('Num of Image urls')\n",
    "plt.show()"
   ]
  },
  {
   "cell_type": "code",
   "execution_count": 145,
   "metadata": {},
   "outputs": [
    {
     "data": {
      "text/plain": [
       "<Figure size 432x288 with 0 Axes>"
      ]
     },
     "metadata": {},
     "output_type": "display_data"
    }
   ],
   "source": [
    "plt.clf()"
   ]
  },
  {
   "cell_type": "markdown",
   "metadata": {},
   "source": [
    "Pulled all 1879 image urls;\n",
    "Initially was adding waitlist counts, however when count =0 that data is lost during zip(list, list)\n",
    "For now leave waitlist out but may come back later."
   ]
  }
 ],
 "metadata": {
  "kernelspec": {
   "display_name": "Python 3",
   "language": "python",
   "name": "python3"
  },
  "language_info": {
   "codemirror_mode": {
    "name": "ipython",
    "version": 3
   },
   "file_extension": ".py",
   "mimetype": "text/x-python",
   "name": "python",
   "nbconvert_exporter": "python",
   "pygments_lexer": "ipython3",
   "version": "3.7.3"
  }
 },
 "nbformat": 4,
 "nbformat_minor": 2
}
