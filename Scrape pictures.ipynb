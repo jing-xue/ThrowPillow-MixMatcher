{
 "cells": [
  {
   "cell_type": "code",
   "execution_count": null,
   "metadata": {},
   "outputs": [],
   "source": [
    "# I aim to scrape catalog pictures of throw pillows from Wayfair\n",
    "# the entire goal is color matching, so I will focus on \"solid color\" and \"rectangular\" pillows\n",
    "# product already ranked by \"Customer Rating\"\n",
    "# url is \"https://www.canva.com/colors/color-palettes/page/2/\"  where page ranges between 1 to 99\n",
    "# credit to \"https://medium.com/the-andela-way/introduction-to-web-scraping-using-selenium-7ec377a8cf72\"\n",
    "# credit to \"https://intoli.com/blog/running-selenium-with-headless-chrome/\"\n",
    "from selenium import webdriver\n",
    "from selenium.webdriver.common.by import By\n",
    "from selenium.webdriver.support.ui import WebDriverWait\n",
    "from selenium.webdriver.support import expected_conditions as EC\n",
    "from selenium.common.exceptions import TimeoutException"
   ]
  }
 ],
 "metadata": {
  "kernelspec": {
   "display_name": "Python 3",
   "language": "python",
   "name": "python3"
  },
  "language_info": {
   "codemirror_mode": {
    "name": "ipython",
    "version": 3
   },
   "file_extension": ".py",
   "mimetype": "text/x-python",
   "name": "python",
   "nbconvert_exporter": "python",
   "pygments_lexer": "ipython3",
   "version": "3.7.3"
  }
 },
 "nbformat": 4,
 "nbformat_minor": 2
}
