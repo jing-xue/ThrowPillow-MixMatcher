{
 "cells": [
  {
   "cell_type": "code",
   "execution_count": 6,
   "metadata": {},
   "outputs": [],
   "source": [
    "import colorgram\n",
    "import os\n",
    "import matplotlib.pyplot as plt\n",
    "import pandas as pd\n",
    "import numpy as np\n",
    "dir = os.getcwd()"
   ]
  },
  {
   "cell_type": "code",
   "execution_count": 7,
   "metadata": {},
   "outputs": [
    {
     "name": "stdout",
     "output_type": "stream",
     "text": [
      "/Users/jing/Documents/ipynb\n"
     ]
    }
   ],
   "source": [
    "print(dir)"
   ]
  },
  {
   "cell_type": "code",
   "execution_count": 36,
   "metadata": {},
   "outputs": [],
   "source": [
    "img_dir = os.path.join(dir,r'Pillow_img')\n",
    "img_url = pd.read_csv(\"./image_url_061119update6th.csv\",index_col = 2)\n",
    "palette = pd.read_csv(os.path.join(dir,r'page1-99_RGB_061019.csv'), index_col = 0)"
   ]
  },
  {
   "cell_type": "code",
   "execution_count": 37,
   "metadata": {},
   "outputs": [
    {
     "name": "stdout",
     "output_type": "stream",
     "text": [
      "          Unnamed: 0                                                url\n",
      "index                                                                  \n",
      "Page_1_1           0  https://ak1.ostkcdn.com/images/products/941290...\n",
      "Page_1_2           1  https://ak1.ostkcdn.com/images/products/132185...\n",
      "Page_1_3           2  https://ak1.ostkcdn.com/images/products/881687...\n",
      "Page_1_4           3  https://ak1.ostkcdn.com/images/products/662457...\n",
      "Page_1_5           4  https://ak1.ostkcdn.com/images/products/881715...\n",
      "                                      RGB1                RGB2  \\\n",
      "Up Shore                  rgb(2, 146, 183)   rgb(26, 200, 219)   \n",
      "Thwarted Summer Shower    rgb(76, 82, 112)   rgb(246, 82, 160)   \n",
      "Luscious Lemonade        rgb(225, 195, 64)   rgb(76, 215, 208)   \n",
      "Rosettes and Cream      rgb(216, 167, 177)  rgb(182, 226, 211)   \n",
      "Berry Blues                rgb(78, 26, 61)  rgb(207, 238, 209)   \n",
      "\n",
      "                                      RGB3                RGB4  \n",
      "Up Shore                rgb(140, 117, 106)  rgb(222, 226, 236)  \n",
      "Thwarted Summer Shower   rgb(54, 238, 224)  rgb(188, 236, 224)  \n",
      "Luscious Lemonade       rgb(164, 232, 224)  rgb(248, 234, 140)  \n",
      "Rosettes and Cream      rgb(250, 232, 224)  rgb(239, 124, 142)  \n",
      "Berry Blues              rgb(255, 39, 104)    rgb(5, 224, 233)  \n"
     ]
    }
   ],
   "source": [
    "print (img_url.head())\n",
    "print (palette.head())"
   ]
  },
  {
   "cell_type": "code",
   "execution_count": 24,
   "metadata": {},
   "outputs": [],
   "source": [
    "img_name = img_url.index.values[52]+'.jpg'\n",
    "# extract 3 most dominant colors, ranked by proportion of the image\n",
    "colors = colorgram.extract(os.path.join(img_dir,img_name),6)"
   ]
  },
  {
   "cell_type": "code",
   "execution_count": 25,
   "metadata": {},
   "outputs": [
    {
     "name": "stdout",
     "output_type": "stream",
     "text": [
      "Page_1_53.jpg:\n",
      "[<colorgram.py Color: Rgb(r=137, g=17, b=24), 68.45642672375347%>, <colorgram.py Color: Rgb(r=252, g=252, b=252), 25.485237712960483%>, <colorgram.py Color: Rgb(r=241, g=249, b=246), 2.117117117117117%>, <colorgram.py Color: Rgb(r=252, g=245, b=249), 1.891891891891892%>, <colorgram.py Color: Rgb(r=106, g=11, b=16), 1.317010079386317%>, <colorgram.py Color: Rgb(r=122, g=24, b=22), 0.7323164748907324%>]\n"
     ]
    }
   ],
   "source": [
    "print (img_name + ':')\n",
    "print (colors)"
   ]
  },
  {
   "cell_type": "code",
   "execution_count": 53,
   "metadata": {},
   "outputs": [
    {
     "name": "stdout",
     "output_type": "stream",
     "text": [
      "Rgb(r=137, g=17, b=24)\n",
      "137\n"
     ]
    }
   ],
   "source": [
    "rgb = colors[0].rgb\n",
    "print (rgb)\n",
    "print (rgb[0])"
   ]
  },
  {
   "cell_type": "code",
   "execution_count": 52,
   "metadata": {},
   "outputs": [
    {
     "name": "stdout",
     "output_type": "stream",
     "text": [
      "rgb(2, 146, 183)<class 'str'>\n",
      "(2, 146, 183)\n",
      "2\n"
     ]
    }
   ],
   "source": [
    "palette_rgb = palette.loc['Up Shore','RGB1'] \n",
    "print (palette_rgb + str(type(palette_rgb)))\n",
    "palette_rgb_tuple = tuple(map(int, palette_rgb[4:len(palette_rgb)-1].replace(' ','').split(',')))\n",
    "print (palette_rgb_tuple)\n",
    "print (palette_rgb_tuple[0])"
   ]
  },
  {
   "cell_type": "code",
   "execution_count": 32,
   "metadata": {},
   "outputs": [],
   "source": [
    "# credit to: https://web.archive.org/web/20100316195057/http://www.dfanning.com/ip_tips/color2gray.html\n",
    "# credit to: https://stackoverflow.com/questions/1847092/given-an-rgb-value-what-would-be-the-best-way-to-find-the-closest-match-in-the-d\n",
    "# d = sqrt(((r2-r1)*0.3)^2 + ((g2-g1)*0.59)^2 + ((b2-b1)*0.11)^2)\n",
    "# Rose_gray = 0.3*Reform(rose[0,*,*]) + 0.59*Reform(rose[1,*,*]) + 0.11*Reform(rose[2,*,*])\n"
   ]
  },
  {
   "cell_type": "code",
   "execution_count": 54,
   "metadata": {},
   "outputs": [
    {
     "data": {
      "text/plain": [
       "135"
      ]
     },
     "execution_count": 54,
     "metadata": {},
     "output_type": "execute_result"
    }
   ],
   "source": [
    "# reformat palette RGB values into integer tuple"
   ]
  },
  {
   "cell_type": "code",
   "execution_count": null,
   "metadata": {},
   "outputs": [],
   "source": []
  },
  {
   "cell_type": "code",
   "execution_count": null,
   "metadata": {},
   "outputs": [],
   "source": []
  }
 ],
 "metadata": {
  "kernelspec": {
   "display_name": "Python 3",
   "language": "python",
   "name": "python3"
  },
  "language_info": {
   "codemirror_mode": {
    "name": "ipython",
    "version": 3
   },
   "file_extension": ".py",
   "mimetype": "text/x-python",
   "name": "python",
   "nbconvert_exporter": "python",
   "pygments_lexer": "ipython3",
   "version": "3.7.3"
  }
 },
 "nbformat": 4,
 "nbformat_minor": 2
}
