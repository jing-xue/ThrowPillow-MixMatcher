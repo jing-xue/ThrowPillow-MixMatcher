{
 "cells": [
  {
   "cell_type": "code",
   "execution_count": 176,
   "metadata": {},
   "outputs": [],
   "source": [
    "import colorgram\n",
    "import os\n",
    "import matplotlib.pyplot as plt\n",
    "import pandas as pd\n",
    "import numpy as np\n",
    "dir = os.getcwd()"
   ]
  },
  {
   "cell_type": "code",
   "execution_count": 177,
   "metadata": {},
   "outputs": [
    {
     "name": "stdout",
     "output_type": "stream",
     "text": [
      "/Users/jing/Documents/ipynb\n"
     ]
    }
   ],
   "source": [
    "print(dir)"
   ]
  },
  {
   "cell_type": "code",
   "execution_count": 179,
   "metadata": {},
   "outputs": [
    {
     "name": "stdout",
     "output_type": "stream",
     "text": [
      "(3179, 4)\n"
     ]
    }
   ],
   "source": [
    "img_dir = os.path.join(dir,r'Pillow_img')\n",
    "img_url = pd.read_csv(\"./image_url_061119update6th.csv\",index_col = 2)\n",
    "palette = pd.read_csv(os.path.join(dir,r'page1-99_RGB_unique.csv'), index_col = 0)\n",
    "print (palette.shape)"
   ]
  },
  {
   "cell_type": "code",
   "execution_count": 180,
   "metadata": {},
   "outputs": [
    {
     "name": "stdout",
     "output_type": "stream",
     "text": [
      "RGB1    1\n",
      "RGB2    0\n",
      "RGB3    1\n",
      "RGB4    2\n",
      "dtype: int64\n",
      "['Bright Tart Cherries' 'Desk Decors' 'Biker Girl' 'Balancing Pineapple']\n"
     ]
    }
   ],
   "source": [
    "# found that one row had blannk RGB4 due to website errors: should be #f7f7f8 but had 7f7f8\n",
    "# this caused a NaN during Hex-RGB conversion which was automatically done during scraping\n",
    "# remove\n",
    "\n",
    "# count number of palettes with NaN for each RGB\n",
    "print (palette_unique.isnull().sum())\n",
    "\n",
    "findNAN = palette_unique.isnull().apply(sum, axis = 1)\n",
    "\n",
    "palette_to_drop = findNAN[findNAN >0].index.values\n",
    "\n",
    "print(palette_to_drop)"
   ]
  },
  {
   "cell_type": "code",
   "execution_count": 181,
   "metadata": {},
   "outputs": [],
   "source": [
    "# remove the 4 palettes with incomplete RGB values\n",
    "palette = palette.drop (palette_to_drop, axis = 0)\n",
    "\n",
    "# confirm again there is no NaN \n",
    "print (print (palette.isnull().sum()))"
   ]
  },
  {
   "cell_type": "code",
   "execution_count": 191,
   "metadata": {},
   "outputs": [
    {
     "name": "stdout",
     "output_type": "stream",
     "text": [
      "rgb(2, 146, 183)<class 'str'>\n",
      "(2, 146, 183)\n",
      "2\n"
     ]
    }
   ],
   "source": [
    "# first, experiment with the first row to convert string to a tuple\n",
    "palette_rgb = palette.loc['Up Shore','RGB1'] \n",
    "print (palette_rgb + str(type(palette_rgb)))\n",
    "palette_rgb_tuple = tuple(map(int, palette_rgb[4:len(palette_rgb)-1].replace(' ','').split(',')))\n",
    "print (palette_rgb_tuple)\n",
    "print (palette_rgb_tuple[0])"
   ]
  },
  {
   "cell_type": "code",
   "execution_count": 192,
   "metadata": {},
   "outputs": [],
   "source": [
    "# reformat palette RGB values into integer tuple\n",
    "# function tupleNumb converts all palette RGB strings to numeric tuples \n",
    "def tupleNum(str):\n",
    "    output= tuple(map(int, str[4:len(str)-1].replace(' ','').split(',')))\n",
    "    return output"
   ]
  },
  {
   "cell_type": "code",
   "execution_count": 190,
   "metadata": {},
   "outputs": [
    {
     "name": "stdout",
     "output_type": "stream",
     "text": [
      "                               RGB1             RGB2             RGB3  \\\n",
      "Meat and Veggies      (157, 63, 34)  (255, 240, 223)    (22, 101, 24)   \n",
      "Growing Toadstools    (188, 63, 31)  (255, 240, 223)      (0, 40, 66)   \n",
      "Hat Decorating       (138, 70, 179)     (88, 93, 38)  (165, 174, 244)   \n",
      "Latte Preparation   (245, 206, 188)  (232, 161, 101)  (250, 235, 217)   \n",
      "Fox Eyes            (166, 137, 123)   (171, 111, 85)  (220, 206, 190)   \n",
      "\n",
      "                               RGB4  \n",
      "Meat and Veggies      (56, 72, 111)  \n",
      "Growing Toadstools     (53, 77, 45)  \n",
      "Hat Decorating      (202, 194, 183)  \n",
      "Latte Preparation      (33, 36, 32)  \n",
      "Fox Eyes               (33, 30, 34)  \n",
      "(3175, 4)\n"
     ]
    }
   ],
   "source": [
    "# store all 3175 indexes\n",
    "palette_index = palette.index.values\n",
    "\n",
    "# apply tupleNum function to each row\n",
    "palette_tuple = palette.applymap(tupleNum)\n",
    "print(palette_tuple.tail())\n",
    "print(palette_tuple.shape)"
   ]
  },
  {
   "cell_type": "code",
   "execution_count": 249,
   "metadata": {},
   "outputs": [],
   "source": [
    "export_csv = palette_tuple.to_csv (os.path.join(dir,r'palette_clean.csv'), index = True, header=True)"
   ]
  },
  {
   "cell_type": "code",
   "execution_count": 231,
   "metadata": {},
   "outputs": [
    {
     "name": "stdout",
     "output_type": "stream",
     "text": [
      "Page_5_51.jpg:\n",
      "[<colorgram.py Color: Rgb(r=56, g=0, b=1), 100.0%>]\n"
     ]
    }
   ],
   "source": [
    "# now move on to extrating pillow RGB\n",
    "# first, experiment with one image\n",
    "img_name = img_url.index.values[290]+'.jpg'\n",
    "# extract 3 most dominant colors, ranked by proportion of the image\n",
    "colors = colorgram.extract(os.path.join(img_dir,img_name),3)\n",
    "print (img_name + ':')\n",
    "print (colors)"
   ]
  },
  {
   "cell_type": "code",
   "execution_count": 234,
   "metadata": {},
   "outputs": [
    {
     "name": "stdout",
     "output_type": "stream",
     "text": [
      "RGB of the most predominant color is: Rgb(r=56, g=0, b=1)\n",
      " where red has a value of 56\n"
     ]
    },
    {
     "data": {
      "text/plain": [
       "True"
      ]
     },
     "execution_count": 234,
     "metadata": {},
     "output_type": "execute_result"
    }
   ],
   "source": [
    "# rgb has is a colorgram.colorgram.Rgb object\n",
    "rgb = colors[0].rgb\n",
    "print (\"RGB of the most predominant color is: \" + str(rgb))\n",
    "print (\" where red has a value of \" + str(rgb[0]))\n",
    "colors[0].proportion==1"
   ]
  },
  {
   "cell_type": "code",
   "execution_count": 208,
   "metadata": {},
   "outputs": [
    {
     "name": "stdout",
     "output_type": "stream",
     "text": [
      "There are 1879 images.\n"
     ]
    }
   ],
   "source": [
    "path, dirs, files = next(os.walk(os.path.join(dir, img_dir)))\n",
    "print (\"There are \" + str(len(files)) + \" images.\")"
   ]
  },
  {
   "cell_type": "code",
   "execution_count": 241,
   "metadata": {},
   "outputs": [],
   "source": [
    "# move on to run colorgram on all images under the path img_dir\n",
    "# initiate two empty lists\n",
    "RGB_x = []\n",
    "Proportion_x = []\n",
    "RGB_y = []\n",
    "Proportion_y = []\n",
    "\n",
    "for i in range (len(img_url.index)):\n",
    "    img_name = img_url.index.values[i]+'.jpg'\n",
    "    colors = colorgram.extract(os.path.join(img_dir,img_name),2)\n",
    "    RGB_x.append(colors[0].rgb)\n",
    "    Proportion_x.append(colors[0].proportion)\n",
    "    if colors[0].proportion==1:\n",
    "        RGB_y.append(colors[0].rgb)\n",
    "        Proportion_y.append(0)\n",
    "    else:\n",
    "        RGB_y.append(colors[1].rgb)\n",
    "        Proportion_y.append(colors[1].proportion)\n",
    "    "
   ]
  },
  {
   "cell_type": "code",
   "execution_count": 242,
   "metadata": {},
   "outputs": [
    {
     "name": "stdout",
     "output_type": "stream",
     "text": [
      "          Unnamed: 0                                                url  \\\n",
      "index                                                                     \n",
      "Page_1_1           0  https://ak1.ostkcdn.com/images/products/941290...   \n",
      "Page_1_2           1  https://ak1.ostkcdn.com/images/products/132185...   \n",
      "Page_1_3           2  https://ak1.ostkcdn.com/images/products/881687...   \n",
      "Page_1_4           3  https://ak1.ostkcdn.com/images/products/662457...   \n",
      "Page_1_5           4  https://ak1.ostkcdn.com/images/products/881715...   \n",
      "\n",
      "                    RGB_x  Proportion_x            RGB_y  Proportion_y  \n",
      "index                                                                   \n",
      "Page_1_1  (247, 245, 243)      0.641295  (183, 153, 126)      0.358705  \n",
      "Page_1_2  (244, 241, 238)      0.721963  (185, 164, 148)      0.278037  \n",
      "Page_1_3  (254, 254, 252)      0.830225     (41, 48, 66)      0.169775  \n",
      "Page_1_4  (169, 159, 146)      0.645881     (14, 37, 54)      0.354119  \n",
      "Page_1_5  (213, 211, 210)      0.578312  (213, 212, 216)      0.421688  \n"
     ]
    }
   ],
   "source": [
    "img_url['RGB_x'] = RGB_x\n",
    "img_url['Proportion_x'] = Proportion_x\n",
    "img_url['RGB_y'] = RGB_y\n",
    "img_url['Proportion_y'] = Proportion_y\n",
    "\n",
    "print(img_url.head())\n",
    "export_csv = img_url.to_csv (os.path.join(dir,r'tagged_image_url.csv'), index = True, header=True)"
   ]
  },
  {
   "cell_type": "code",
   "execution_count": 122,
   "metadata": {},
   "outputs": [],
   "source": [
    "# credit to: https://web.archive.org/web/20100316195057/http://www.dfanning.com/ip_tips/color2gray.html\n",
    "# credit to: https://stackoverflow.com/questions/1847092/given-an-rgb-value-what-would-be-the-best-way-to-find-the-closest-match-in-the-d\n",
    "# d = sqrt(((r2-r1)*0.3)^2 + ((g2-g1)*0.59)^2 + ((b2-b1)*0.11)^2)\n",
    "# Rose_gray = 0.3*Reform(rose[0,*,*]) + 0.59*Reform(rose[1,*,*]) + 0.11*Reform(rose[2,*,*])\n",
    "# difference in colors is calculated by spatial distance in the 3-D color dimension\n",
    "# Method 1: Euclidean distance with weights [0.3,0.59,0.11]\n",
    "# Method 2 (try later): Euclidean distance without weights"
   ]
  },
  {
   "cell_type": "code",
   "execution_count": 250,
   "metadata": {},
   "outputs": [],
   "source": [
    "from scipy.spatial import distance as distance\n",
    "from mpl_toolkits.mplot3d import Axes3D\n",
    "import matplotlib.pyplot as plt"
   ]
  },
  {
   "cell_type": "code",
   "execution_count": 272,
   "metadata": {},
   "outputs": [
    {
     "data": {
      "image/png": "[encoded data removed]",
      "text/plain": [
       "<Figure size 432x288 with 1 Axes>"
      ]
     },
     "metadata": {
      "needs_background": "light"
     },
     "output_type": "display_data"
    },
    {
     "data": {
      "text/plain": [
       "<Figure size 432x288 with 0 Axes>"
      ]
     },
     "metadata": {},
     "output_type": "display_data"
    }
   ],
   "source": [
    "# first draw a 3D plot to see the distribution of products\n",
    "# use this to return the 1st item in tuples in a list [i[0] for i in img_url['RGB_x']]\n",
    "pillow_r =[i[0] for i in img_url['RGB_x']]\n",
    "pillow_g =[i[1] for i in img_url['RGB_x']]\n",
    "pillow_b =[i[2] for i in img_url['RGB_x']]\n",
    "\n",
    "fig = plt.figure()\n",
    "ax = fig.add_subplot(111, projection = '3d')\n",
    "\n",
    "ax.scatter(pillow_r,pillow_g,pillow_b)\n",
    "\n",
    "ax.set_xlabel('red')\n",
    "ax.set_ylabel('green')\n",
    "ax.set_zlabel('blue') \n",
    "\n",
    "ax.set_title('Color distribution of pillows')\n",
    "\n",
    "plt.show()\n",
    "plt.clf()"
   ]
  },
  {
   "cell_type": "code",
   "execution_count": 256,
   "metadata": {},
   "outputs": [
    {
     "data": {
      "text/plain": [
       "pandas.core.series.Series"
      ]
     },
     "execution_count": 256,
     "metadata": {},
     "output_type": "execute_result"
    }
   ],
   "source": [
    "# Method 1: Euclidean distance with weights [0.3,0.59,0.11]\n",
    "# First, find the most similar color to user's choice from all colors in palette database\n",
    "# if multiple palette colors are pulled return the one with smallest index number\n",
    "# since palettes are ranked by popularity\n"
   ]
  },
  {
   "cell_type": "code",
   "execution_count": 266,
   "metadata": {},
   "outputs": [
    {
     "data": {
      "text/plain": [
       "1879"
      ]
     },
     "execution_count": 266,
     "metadata": {},
     "output_type": "execute_result"
    }
   ],
   "source": [
    "img_url.shape[0]"
   ]
  },
  {
   "cell_type": "code",
   "execution_count": null,
   "metadata": {},
   "outputs": [],
   "source": []
  }
 ],
 "metadata": {
  "kernelspec": {
   "display_name": "Python 3",
   "language": "python",
   "name": "python3"
  },
  "language_info": {
   "codemirror_mode": {
    "name": "ipython",
    "version": 3
   },
   "file_extension": ".py",
   "mimetype": "text/x-python",
   "name": "python",
   "nbconvert_exporter": "python",
   "pygments_lexer": "ipython3",
   "version": "3.7.3"
  }
 },
 "nbformat": 4,
 "nbformat_minor": 2
}
