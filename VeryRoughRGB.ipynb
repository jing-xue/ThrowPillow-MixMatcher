{
 "cells": [
  {
   "cell_type": "code",
   "execution_count": 176,
   "metadata": {},
   "outputs": [],
   "source": [
    "import colorgram\n",
    "import os\n",
    "import matplotlib.pyplot as plt\n",
    "import pandas as pd\n",
    "import numpy as np\n",
    "dir = os.getcwd()"
   ]
  },
  {
   "cell_type": "code",
   "execution_count": 177,
   "metadata": {},
   "outputs": [
    {
     "name": "stdout",
     "output_type": "stream",
     "text": [
      "/Users/jing/Documents/ipynb\n"
     ]
    }
   ],
   "source": [
    "print(dir)"
   ]
  },
  {
   "cell_type": "code",
   "execution_count": 179,
   "metadata": {},
   "outputs": [
    {
     "name": "stdout",
     "output_type": "stream",
     "text": [
      "(3179, 4)\n"
     ]
    }
   ],
   "source": [
    "img_dir = os.path.join(dir,r'Pillow_img')\n",
    "img_url = pd.read_csv(\"./image_url_061119update6th.csv\",index_col = 2)\n",
    "palette = pd.read_csv(os.path.join(dir,r'page1-99_RGB_unique.csv'), index_col = 0)\n",
    "print (palette.shape)"
   ]
  },
  {
   "cell_type": "code",
   "execution_count": 180,
   "metadata": {},
   "outputs": [
    {
     "name": "stdout",
     "output_type": "stream",
     "text": [
      "RGB1    1\n",
      "RGB2    0\n",
      "RGB3    1\n",
      "RGB4    2\n",
      "dtype: int64\n",
      "['Bright Tart Cherries' 'Desk Decors' 'Biker Girl' 'Balancing Pineapple']\n"
     ]
    }
   ],
   "source": [
    "# found that one row had blannk RGB4 due to website errors: should be #f7f7f8 but had 7f7f8\n",
    "# this caused a NaN during Hex-RGB conversion which was automatically done during scraping\n",
    "# remove\n",
    "\n",
    "# count number of palettes with NaN for each RGB\n",
    "print (palette_unique.isnull().sum())\n",
    "\n",
    "findNAN = palette_unique.isnull().apply(sum, axis = 1)\n",
    "\n",
    "palette_to_drop = findNAN[findNAN >0].index.values\n",
    "\n",
    "print(palette_to_drop)"
   ]
  },
  {
   "cell_type": "code",
   "execution_count": 181,
   "metadata": {},
   "outputs": [],
   "source": [
    "# remove the 4 palettes with incomplete RGB values\n",
    "palette = palette.drop (palette_to_drop, axis = 0)\n",
    "\n",
    "# confirm again there is no NaN \n",
    "print (print (palette.isnull().sum()))"
   ]
  },
  {
   "cell_type": "code",
   "execution_count": 191,
   "metadata": {},
   "outputs": [
    {
     "name": "stdout",
     "output_type": "stream",
     "text": [
      "rgb(2, 146, 183)<class 'str'>\n",
      "(2, 146, 183)\n",
      "2\n"
     ]
    }
   ],
   "source": [
    "# first, experiment with the first row to convert string to a tuple\n",
    "palette_rgb = palette.loc['Up Shore','RGB1'] \n",
    "print (palette_rgb + str(type(palette_rgb)))\n",
    "palette_rgb_tuple = tuple(map(int, palette_rgb[4:len(palette_rgb)-1].replace(' ','').split(',')))\n",
    "print (palette_rgb_tuple)\n",
    "print (palette_rgb_tuple[0])"
   ]
  },
  {
   "cell_type": "code",
   "execution_count": 192,
   "metadata": {},
   "outputs": [],
   "source": [
    "# reformat palette RGB values into integer tuple\n",
    "# function tupleNumb converts all palette RGB strings to numeric tuples \n",
    "def tupleNum(str):\n",
    "    output= tuple(map(int, str[4:len(str)-1].replace(' ','').split(',')))\n",
    "    return output"
   ]
  },
  {
   "cell_type": "code",
   "execution_count": 190,
   "metadata": {},
   "outputs": [
    {
     "name": "stdout",
     "output_type": "stream",
     "text": [
      "                               RGB1             RGB2             RGB3  \\\n",
      "Meat and Veggies      (157, 63, 34)  (255, 240, 223)    (22, 101, 24)   \n",
      "Growing Toadstools    (188, 63, 31)  (255, 240, 223)      (0, 40, 66)   \n",
      "Hat Decorating       (138, 70, 179)     (88, 93, 38)  (165, 174, 244)   \n",
      "Latte Preparation   (245, 206, 188)  (232, 161, 101)  (250, 235, 217)   \n",
      "Fox Eyes            (166, 137, 123)   (171, 111, 85)  (220, 206, 190)   \n",
      "\n",
      "                               RGB4  \n",
      "Meat and Veggies      (56, 72, 111)  \n",
      "Growing Toadstools     (53, 77, 45)  \n",
      "Hat Decorating      (202, 194, 183)  \n",
      "Latte Preparation      (33, 36, 32)  \n",
      "Fox Eyes               (33, 30, 34)  \n",
      "(3175, 4)\n"
     ]
    }
   ],
   "source": [
    "# store all 3175 indexes\n",
    "palette_index = palette.index.values\n",
    "\n",
    "# apply tupleNum function to each row\n",
    "palette_tuple = palette.applymap(tupleNum)\n",
    "print(palette_tuple.tail())\n",
    "print(palette_tuple.shape)"
   ]
  },
  {
   "cell_type": "code",
   "execution_count": 198,
   "metadata": {},
   "outputs": [
    {
     "name": "stdout",
     "output_type": "stream",
     "text": [
      "Page_1_53.jpg:\n",
      "[<colorgram.py Color: Rgb(r=137, g=17, b=24), 71.26514163141938%>, <colorgram.py Color: Rgb(r=252, g=252, b=252), 26.530877553010217%>, <colorgram.py Color: Rgb(r=241, g=249, b=246), 2.2039808155704024%>]\n",
      "RGB of the most predominant color is: Rgb(r=137, g=17, b=24)\n",
      " where red has a value of 137\n"
     ]
    }
   ],
   "source": [
    "# now move on to extrating pillow RGB\n",
    "# first, experiment with one image\n",
    "img_name = img_url.index.values[52]+'.jpg'\n",
    "# extract 3 most dominant colors, ranked by proportion of the image\n",
    "colors = colorgram.extract(os.path.join(img_dir,img_name),3)\n",
    "print (img_name + ':')\n",
    "print (colors)\n",
    "\n",
    "# rgb has is a colorgram.colorgram.Rgb object\n",
    "rgb = colors[0].rgb\n",
    "print (\"RGB of the most predominant color is: \" + str(rgb))\n",
    "print (\" where red has a value of \" + str(rgb[0]))"
   ]
  },
  {
   "cell_type": "code",
   "execution_count": 208,
   "metadata": {},
   "outputs": [
    {
     "name": "stdout",
     "output_type": "stream",
     "text": [
      "There are 1879 images.\n"
     ]
    }
   ],
   "source": [
    "path, dirs, files = next(os.walk(os.path.join(dir, img_dir)))\n",
    "print (\"There are \" + str(len(files)) + \" images.\")"
   ]
  },
  {
   "cell_type": "code",
   "execution_count": 199,
   "metadata": {},
   "outputs": [
    {
     "data": {
      "text/plain": [
       "1879"
      ]
     },
     "execution_count": 199,
     "metadata": {},
     "output_type": "execute_result"
    }
   ],
   "source": [
    "# move on to run colorgram on all images under the path img_dir\n",
    "RGB = []\n",
    "Proportion = []\n",
    "\n",
    "# for i in range (len(img_url.index)):\n",
    "for i in range (10):\n",
    "    img_name = img_url.index.value[0]+'.jpg'\n",
    "    colors = colorgram.extract(os.path.join(img_dir,img_name),3)\n",
    "    RGB [i] = \n",
    "    \n",
    "    "
   ]
  },
  {
   "cell_type": "code",
   "execution_count": 122,
   "metadata": {},
   "outputs": [],
   "source": [
    "# credit to: https://web.archive.org/web/20100316195057/http://www.dfanning.com/ip_tips/color2gray.html\n",
    "# credit to: https://stackoverflow.com/questions/1847092/given-an-rgb-value-what-would-be-the-best-way-to-find-the-closest-match-in-the-d\n",
    "# d = sqrt(((r2-r1)*0.3)^2 + ((g2-g1)*0.59)^2 + ((b2-b1)*0.11)^2)\n",
    "# Rose_gray = 0.3*Reform(rose[0,*,*]) + 0.59*Reform(rose[1,*,*]) + 0.11*Reform(rose[2,*,*])"
   ]
  },
  {
   "cell_type": "code",
   "execution_count": null,
   "metadata": {},
   "outputs": [],
   "source": [
    "# now, "
   ]
  }
 ],
 "metadata": {
  "kernelspec": {
   "display_name": "Python 3",
   "language": "python",
   "name": "python3"
  },
  "language_info": {
   "codemirror_mode": {
    "name": "ipython",
    "version": 3
   },
   "file_extension": ".py",
   "mimetype": "text/x-python",
   "name": "python",
   "nbconvert_exporter": "python",
   "pygments_lexer": "ipython3",
   "version": "3.7.3"
  }
 },
 "nbformat": 4,
 "nbformat_minor": 2
}
